{
  "nbformat": 4,
  "nbformat_minor": 0,
  "metadata": {
    "colab": {
      "provenance": [],
      "authorship_tag": "ABX9TyMpyMBVsU0E2pGWqDodnA6L",
      "include_colab_link": true
    },
    "kernelspec": {
      "name": "python3",
      "display_name": "Python 3"
    },
    "language_info": {
      "name": "python"
    }
  },
  "cells": [
    {
      "cell_type": "markdown",
      "metadata": {
        "id": "view-in-github",
        "colab_type": "text"
      },
      "source": [
        "<a href=\"https://colab.research.google.com/github/DELTAREET/SIT/blob/main/NUMPY.ipynb\" target=\"_parent\"><img src=\"https://colab.research.google.com/assets/colab-badge.svg\" alt=\"Open In Colab\"/></a>"
      ]
    },
    {
      "cell_type": "code",
      "execution_count": 5,
      "metadata": {
        "colab": {
          "base_uri": "https://localhost:8080/"
        },
        "id": "itdi1DMtf3ZM",
        "outputId": "d8fb94f1-ee9b-4876-9e2c-7a52e4b8bbca"
      },
      "outputs": [
        {
          "output_type": "stream",
          "name": "stdout",
          "text": [
            "This is my 0-d array\n",
            "100\n",
            "The dimension of this array is  0\n"
          ]
        }
      ],
      "source": [
        "## Numpy\n",
        "\n",
        "\n",
        "# creating 0-d array using numpy\n",
        "import numpy as np\n",
        "zeroDimensionArray = np.array(100)\n",
        "print(\"This is my 0-d array\")\n",
        "print(zeroDimensionArray)\n",
        "print(\"The dimension of this array is \",zeroDimensionArray.ndim)\n"
      ]
    },
    {
      "cell_type": "code",
      "source": [
        "# creating 1-d array\n",
        "import numpy as np\n",
        "oneDimensionArray = np.array([1,2,3,4,5])\n",
        "print(\"This is mmy 1-d array\")\n",
        "print(oneDimensionArray)\n",
        "print(\"The dimension of this array is \",oneDimensionArray.ndim)\n",
        "print(\"The first element present in this array \",oneDimensionArray[0])\n",
        "print(\"The third element present in this array \",oneDimensionArray[2])\n",
        "print(\"The sum of the element present inthe 2nd and 3rd index is \",oneDimensionArray[2] + oneDimensionArray[3])"
      ],
      "metadata": {
        "colab": {
          "base_uri": "https://localhost:8080/"
        },
        "id": "W0IAXWTkgzNL",
        "outputId": "a4b06cce-9062-4bec-e8f8-8315c8f936bc"
      },
      "execution_count": 12,
      "outputs": [
        {
          "output_type": "stream",
          "name": "stdout",
          "text": [
            "This is mmy 1-d array\n",
            "[1 2 3 4 5]\n",
            "The dimension of this array is  1\n",
            "The first element present in this array  1\n",
            "The third element present in this array  3\n",
            "The sum of the element present inthe 2nd and 3rd index is  7\n"
          ]
        }
      ]
    },
    {
      "cell_type": "code",
      "source": [
        "# creating 2-d array\n",
        "import numpy as np\n",
        "twoDimensionArray = np.array([[1,2,3,4,5],[6,7,8,9,10]])\n",
        "print(\"This is my 2-d array\")\n",
        "print(twoDimensionArray)\n",
        "print(\"The dimension of this array is \",twoDimensionArray.ndim)\n",
        "print(\"Displaying 1st row : \",twoDimensionArray[0])\n",
        "print(\"Displaying 2nd row : \",twoDimensionArray[1])\n",
        "print(\"Displaying 1st element of the first row \",twoDimensionArray[0,0])\n",
        "print(\"Displaying 3rd element of the second row \",twoDimensionArray[1,3])\n",
        "print(\"The sum of the element present in the first row 2nd index and second row 3rd index is \",twoDimensionArray[0,4] + twoDimensionArray[1,3])\n"
      ],
      "metadata": {
        "colab": {
          "base_uri": "https://localhost:8080/"
        },
        "id": "iRErllNAhMY3",
        "outputId": "ad520517-6188-40e0-aad7-aa52f1448825"
      },
      "execution_count": 17,
      "outputs": [
        {
          "output_type": "stream",
          "name": "stdout",
          "text": [
            "This is my 2-d array\n",
            "[[ 1  2  3  4  5]\n",
            " [ 6  7  8  9 10]]\n",
            "The dimension of this array is  2\n",
            "Displaying 1st row :  [1 2 3 4 5]\n",
            "Displaying 2nd row :  [ 6  7  8  9 10]\n",
            "Displaying 1st element of the first row  1\n",
            "Displaying 3rd element of the second row  9\n",
            "The sum of the element present in the first row 2nd index and second row 3rd index is  14\n"
          ]
        }
      ]
    },
    {
      "cell_type": "markdown",
      "source": [],
      "metadata": {
        "id": "3hwuVGTytrga"
      }
    },
    {
      "cell_type": "code",
      "source": [],
      "metadata": {
        "id": "FfrvjSSwtsY0"
      },
      "execution_count": null,
      "outputs": []
    },
    {
      "cell_type": "code",
      "source": [
        "#creating 3-d Array\n",
        "import numpy as np\n",
        "threeDimensionArray = np.array([[[1,2,3,4,5],[6,7,8,9,10],[11,12,13,14,15]]])\n",
        "print(\"This is my 3-d array\")\n",
        "print(threeDimensionArray)\n",
        "print(\"The dimension of this array is \",threeDimensionArray.ndim)\n",
        "print(\"Displaying the first row of this array \",threeDimensionArray[0,0])\n",
        "print(\"Displaying the third row of this array \",threeDimensionArray[0,2])\n",
        "print(\"Displaying seacond element of the third row \",threeDimensionArray[0,2,1])\n",
        "\n"
      ],
      "metadata": {
        "colab": {
          "base_uri": "https://localhost:8080/"
        },
        "id": "0q9ImIqyiDT1",
        "outputId": "af724f3a-dd05-458e-9f7f-c492dd3aaee4"
      },
      "execution_count": 18,
      "outputs": [
        {
          "output_type": "stream",
          "name": "stdout",
          "text": [
            "This is my 3-d array\n",
            "[[[ 1  2  3  4  5]\n",
            "  [ 6  7  8  9 10]\n",
            "  [11 12 13 14 15]]]\n",
            "The dimension of this array is  3\n",
            "Displaying the first row of this array  [1 2 3 4 5]\n",
            "Displaying the third row of this array  [11 12 13 14 15]\n",
            "Displaying seacond element of the third row  12\n"
          ]
        }
      ]
    },
    {
      "cell_type": "code",
      "source": [
        "# Array Slicing\n",
        "import numpy as np\n",
        "oneDimensionArray = np.array([1,2,3,4,5,6,7,8,9,10])\n",
        "print(\"This is mmy 1-d array\")\n",
        "print(\"your array is : \")\n",
        "print(oneDimensionArray)\n",
        "print(\"The dimension of this array is \",oneDimensionArray.ndim)\n",
        "print(\"The dimension of this array is : \",oneDimensionArray)\n",
        "print(\"Displaying element from 3rd to 6th index \",oneDimensionArray[3:7])\n",
        "print(\"Displaying element after 5th element of this array \",oneDimensionArray[5:])\n",
        "print(\"Displaying element before 5th element of this array \",oneDimensionArray[:5])\n",
        "\n"
      ],
      "metadata": {
        "colab": {
          "base_uri": "https://localhost:8080/"
        },
        "id": "Odby4Cq4yOmG",
        "outputId": "19686bde-e934-429c-9e78-202da9f1e629"
      },
      "execution_count": 26,
      "outputs": [
        {
          "output_type": "stream",
          "name": "stdout",
          "text": [
            "This is mmy 1-d array\n",
            "your array is : \n",
            "[ 1  2  3  4  5  6  7  8  9 10]\n",
            "The dimension of this array is  1\n",
            "The dimension of this array is :  [ 1  2  3  4  5  6  7  8  9 10]\n",
            "Displaying element from 3rd to 6th index  [4 5 6 7]\n",
            "Displaying element after 5th element of this array  [ 6  7  8  9 10]\n",
            "Displaying element before 5th element of this array  [1 2 3 4 5]\n"
          ]
        }
      ]
    },
    {
      "cell_type": "code",
      "source": [
        "#copy and view\n",
        "import numpy as np\n",
        "OriginalArray = np.arrayy([1,2,3,4])\n",
        "CopiedArray = OriginalArray.copy()\n"
      ],
      "metadata": {
        "id": "9jJF49FSM8Nm"
      },
      "execution_count": null,
      "outputs": []
    }
  ]
}