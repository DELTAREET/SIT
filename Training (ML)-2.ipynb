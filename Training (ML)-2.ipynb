{
  "nbformat": 4,
  "nbformat_minor": 0,
  "metadata": {
    "colab": {
      "provenance": [],
      "authorship_tag": "ABX9TyNC56zJ0a4BTzC+OCMStlgF",
      "include_colab_link": true
    },
    "kernelspec": {
      "name": "python3",
      "display_name": "Python 3"
    },
    "language_info": {
      "name": "python"
    }
  },
  "cells": [
    {
      "cell_type": "markdown",
      "metadata": {
        "id": "view-in-github",
        "colab_type": "text"
      },
      "source": [
        "<a href=\"https://colab.research.google.com/github/DELTAREET/SIT/blob/main/Training%20(ML)-2.ipynb\" target=\"_parent\"><img src=\"https://colab.research.google.com/assets/colab-badge.svg\" alt=\"Open In Colab\"/></a>"
      ]
    },
    {
      "cell_type": "code",
      "execution_count": 5,
      "metadata": {
        "colab": {
          "base_uri": "https://localhost:8080/"
        },
        "id": "itdi1DMtf3ZM",
        "outputId": "d8fb94f1-ee9b-4876-9e2c-7a52e4b8bbca"
      },
      "outputs": [
        {
          "output_type": "stream",
          "name": "stdout",
          "text": [
            "This is my 0-d array\n",
            "100\n",
            "The dimension of this array is  0\n"
          ]
        }
      ],
      "source": [
        "## Numpy\n",
        "\n",
        "\n",
        "# creating 0-d array using numpy\n",
        "import numpy as np\n",
        "zeroDimensionArray = np.array(100)\n",
        "print(\"This is my 0-d array\")\n",
        "print(zeroDimensionArray)\n",
        "print(\"The dimension of this array is \",zeroDimensionArray.ndim)\n"
      ]
    },
    {
      "cell_type": "code",
      "source": [
        "# creating 1-d array\n",
        "import numpy as np\n",
        "oneDimensionArray = np.array([1,2,3,4,5])\n",
        "print(\"This is mmy 1-d array\")\n",
        "print(oneDimensionArray)\n",
        "print(\"The dimension of this array is \",oneDimensionArray.ndim)\n",
        "print(\"The first element present in this array \",oneDimensionArray[0])\n",
        "print(\"The third element present in this array \",oneDimensionArray[2])\n",
        "print(\"The sum of the element present inthe 2nd and 3rd index is \",oneDimensionArray[2] + oneDimensionArray[3])"
      ],
      "metadata": {
        "colab": {
          "base_uri": "https://localhost:8080/"
        },
        "id": "W0IAXWTkgzNL",
        "outputId": "a4b06cce-9062-4bec-e8f8-8315c8f936bc"
      },
      "execution_count": 12,
      "outputs": [
        {
          "output_type": "stream",
          "name": "stdout",
          "text": [
            "This is mmy 1-d array\n",
            "[1 2 3 4 5]\n",
            "The dimension of this array is  1\n",
            "The first element present in this array  1\n",
            "The third element present in this array  3\n",
            "The sum of the element present inthe 2nd and 3rd index is  7\n"
          ]
        }
      ]
    },
    {
      "cell_type": "code",
      "source": [
        "# creating 2-d array\n",
        "import numpy as np\n",
        "twoDimensionArray = np.array([[1,2,3,4,5],[6,7,8,9,10]])\n",
        "print(\"This is my 2-d array\")\n",
        "print(twoDimensionArray)\n",
        "print(\"The dimension of this array is \",twoDimensionArray.ndim)\n",
        "print(\"Displaying 1st row : \",twoDimensionArray[0])\n",
        "print(\"Displaying 2nd row : \",twoDimensionArray[1])\n",
        "print(\"Displaying 1st element of the first row \",twoDimensionArray[0,0])\n",
        "print(\"Displaying 3rd element of the second row \",twoDimensionArray[1,3])\n",
        "print(\"The sum of the element present in the first row 2nd index and second row 3rd index is \",twoDimensionArray[0,4] + twoDimensionArray[1,3])\n"
      ],
      "metadata": {
        "colab": {
          "base_uri": "https://localhost:8080/"
        },
        "id": "iRErllNAhMY3",
        "outputId": "ad520517-6188-40e0-aad7-aa52f1448825"
      },
      "execution_count": 17,
      "outputs": [
        {
          "output_type": "stream",
          "name": "stdout",
          "text": [
            "This is my 2-d array\n",
            "[[ 1  2  3  4  5]\n",
            " [ 6  7  8  9 10]]\n",
            "The dimension of this array is  2\n",
            "Displaying 1st row :  [1 2 3 4 5]\n",
            "Displaying 2nd row :  [ 6  7  8  9 10]\n",
            "Displaying 1st element of the first row  1\n",
            "Displaying 3rd element of the second row  9\n",
            "The sum of the element present in the first row 2nd index and second row 3rd index is  14\n"
          ]
        }
      ]
    },
    {
      "cell_type": "markdown",
      "source": [],
      "metadata": {
        "id": "3hwuVGTytrga"
      }
    },
    {
      "cell_type": "code",
      "source": [],
      "metadata": {
        "id": "FfrvjSSwtsY0"
      },
      "execution_count": null,
      "outputs": []
    },
    {
      "cell_type": "code",
      "source": [
        "#creating 3-d Array\n",
        "import numpy as np\n",
        "threeDimensionArray = np.array([[[1,2,3,4,5],[6,7,8,9,10],[11,12,13,14,15]]])\n",
        "print(\"This is my 3-d array\")\n",
        "print(threeDimensionArray)\n",
        "print(\"The dimension of this array is \",threeDimensionArray.ndim)\n",
        "print(\"Displaying the first row of this array \",threeDimensionArray[0,0])\n",
        "print(\"Displaying the third row of this array \",threeDimensionArray[0,2])\n",
        "print(\"Displaying seacond element of the third row \",threeDimensionArray[0,2,1])\n",
        "\n"
      ],
      "metadata": {
        "colab": {
          "base_uri": "https://localhost:8080/"
        },
        "id": "0q9ImIqyiDT1",
        "outputId": "af724f3a-dd05-458e-9f7f-c492dd3aaee4"
      },
      "execution_count": 18,
      "outputs": [
        {
          "output_type": "stream",
          "name": "stdout",
          "text": [
            "This is my 3-d array\n",
            "[[[ 1  2  3  4  5]\n",
            "  [ 6  7  8  9 10]\n",
            "  [11 12 13 14 15]]]\n",
            "The dimension of this array is  3\n",
            "Displaying the first row of this array  [1 2 3 4 5]\n",
            "Displaying the third row of this array  [11 12 13 14 15]\n",
            "Displaying seacond element of the third row  12\n"
          ]
        }
      ]
    },
    {
      "cell_type": "code",
      "source": [
        "# Array Slicing\n",
        "import numpy as np\n",
        "oneDimensionArray = np.array([1,2,3,4,5,6,7,8,9,10])\n",
        "print(\"This is mmy 1-d array\")\n",
        "print(\"your array is : \")\n",
        "print(oneDimensionArray)\n",
        "print(\"The dimension of this array is \",oneDimensionArray.ndim)\n",
        "print(\"The dimension of this array is : \",oneDimensionArray)\n",
        "print(\"Displaying element from 3rd to 6th index \",oneDimensionArray[3:7])\n",
        "print(\"Displaying element after 5th element of this array \",oneDimensionArray[5:])\n",
        "print(\"Displaying element before 5th element of this array \",oneDimensionArray[:5])\n",
        "\n"
      ],
      "metadata": {
        "colab": {
          "base_uri": "https://localhost:8080/"
        },
        "id": "Odby4Cq4yOmG",
        "outputId": "19686bde-e934-429c-9e78-202da9f1e629"
      },
      "execution_count": 26,
      "outputs": [
        {
          "output_type": "stream",
          "name": "stdout",
          "text": [
            "This is mmy 1-d array\n",
            "your array is : \n",
            "[ 1  2  3  4  5  6  7  8  9 10]\n",
            "The dimension of this array is  1\n",
            "The dimension of this array is :  [ 1  2  3  4  5  6  7  8  9 10]\n",
            "Displaying element from 3rd to 6th index  [4 5 6 7]\n",
            "Displaying element after 5th element of this array  [ 6  7  8  9 10]\n",
            "Displaying element before 5th element of this array  [1 2 3 4 5]\n"
          ]
        }
      ]
    },
    {
      "cell_type": "code",
      "source": [
        "#copy and view\n",
        "import numpy as np\n",
        "OriginalArray = np.array([1,2,3,4])\n",
        "CopiedArray = OriginalArray.copy()\n",
        "print(\"Original Array : \", OriginalArray)\n",
        "OriginalArray[2] = 100\n",
        "print(\"Original Array : \",OriginalArray)\n",
        "CopiedArray[0] = 600\n",
        "print(\"Copied Array : \", CopiedArray)"
      ],
      "metadata": {
        "colab": {
          "base_uri": "https://localhost:8080/"
        },
        "id": "9jJF49FSM8Nm",
        "outputId": "d56c8a75-b9e0-4af2-8fb8-886adbc38e84"
      },
      "execution_count": 5,
      "outputs": [
        {
          "output_type": "stream",
          "name": "stdout",
          "text": [
            "Original Array :  [1 2 3 4]\n",
            "Original Array :  [  1   2 100   4]\n",
            "Copied Array :  [600   2   3   4]\n"
          ]
        }
      ]
    },
    {
      "cell_type": "code",
      "source": [
        "#copy and view\n",
        "import numpy as np\n",
        "OriginalArray = np.array([1,2,3,4])\n",
        "CopiedArray = OriginalArray.view()\n",
        "print(\"This is the Original Array : \",OriginalArray)\n",
        "print(\"Changes Applying to original array : \")\n",
        "OriginalArray[2] = 121\n",
        "print(\"this is the Original Array : \",OriginalArray)\n",
        "print(\"This is the Copied Array : \", CopiedArray)"
      ],
      "metadata": {
        "colab": {
          "base_uri": "https://localhost:8080/"
        },
        "id": "LOK5_HLIPyFY",
        "outputId": "a902a294-9410-494a-94a9-766538d04e95"
      },
      "execution_count": 4,
      "outputs": [
        {
          "output_type": "stream",
          "name": "stdout",
          "text": [
            "This is the Original Array :  [1 2 3 4]\n",
            "Changes Applying to original array : \n",
            "this is the Original Array :  [  1   2 121   4]\n",
            "This is the Copied Array :  [  1   2 121   4]\n"
          ]
        }
      ]
    },
    {
      "cell_type": "code",
      "source": [],
      "metadata": {
        "id": "py_7-GeFRs6Q"
      },
      "execution_count": null,
      "outputs": []
    },
    {
      "cell_type": "markdown",
      "source": [
        "# New Section 1"
      ],
      "metadata": {
        "id": "OqT4OBbRt-k9"
      }
    },
    {
      "cell_type": "code",
      "source": [
        "# creating 0-d array using numpy\n",
        "import numpy as np\n",
        "zeroDimensionArray = np.array(100)\n",
        "print(\"This is my 0-d array\")\n",
        "print(zeroDimensionArray)\n",
        "print(\"The dimension of this array is \",zeroDimensionArray.ndim)"
      ],
      "metadata": {
        "colab": {
          "base_uri": "https://localhost:8080/"
        },
        "id": "jUZcwuenuFmH",
        "outputId": "7aef5297-fc20-4580-c6a8-a8a60e959efa"
      },
      "execution_count": 1,
      "outputs": [
        {
          "output_type": "stream",
          "name": "stdout",
          "text": [
            "This is my 0-d array\n",
            "100\n",
            "The dimension of this array is  0\n"
          ]
        }
      ]
    },
    {
      "cell_type": "code",
      "source": [
        "# creating 1-d array\n",
        "import numpy as np\n",
        "oneDimensionArray = np.array([1,2,3,4,5])\n",
        "print(\"This is my 1-d array\")\n",
        "print(oneDimensionArray)\n",
        "print(\"The dimension of this array is \",oneDimensionArray.ndim)\n"
      ],
      "metadata": {
        "colab": {
          "base_uri": "https://localhost:8080/"
        },
        "id": "qg8RPlA7udOo",
        "outputId": "36866542-5839-4ce0-8db4-8000773da1b9"
      },
      "execution_count": 5,
      "outputs": [
        {
          "output_type": "stream",
          "name": "stdout",
          "text": [
            "This is my 1-d array\n",
            "[1 2 3 4 5]\n",
            "The dimension of this array is  1\n"
          ]
        }
      ]
    },
    {
      "cell_type": "code",
      "source": [
        "# creating 6-d array\n",
        "import numpy as np\n",
        "sixDimensionArray = np.array([[[[[[1,2,3],[4,5,6],[7,8,9],[10,11,12],[13,14,15],[16,17,18]]]]]])\n",
        "print(\"This is my 6-d array\")\n",
        "print(sixDimensionArray)\n",
        "print(\"This dimension of this array is \",sixDimensionArray.ndim)"
      ],
      "metadata": {
        "colab": {
          "base_uri": "https://localhost:8080/"
        },
        "id": "YbwUsrwcui2c",
        "outputId": "68e7925c-9a76-415a-e5f0-0c4b13ebabae"
      },
      "execution_count": 4,
      "outputs": [
        {
          "output_type": "stream",
          "name": "stdout",
          "text": [
            "This is my 6-d array\n",
            "[[[[[[ 1  2  3]\n",
            "     [ 4  5  6]\n",
            "     [ 7  8  9]\n",
            "     [10 11 12]\n",
            "     [13 14 15]\n",
            "     [16 17 18]]]]]]\n",
            "This dimension of this array is  6\n"
          ]
        }
      ]
    },
    {
      "cell_type": "code",
      "source": [
        "# creating 1-d array\n",
        "import numpy as np\n",
        "oneDimensionArray = np.array([1,2,3,4,5])\n",
        "print(\"This is my 1-d array\")\n",
        "print(oneDimensionArray)\n",
        "print(\"The dimension of this array is \",oneDimensionArray.ndim)\n",
        "\n",
        "print(\"The sum of the element present in the second and fourth index is \",oneDimensionArray[1] + oneDimensionArray[3])"
      ],
      "metadata": {
        "colab": {
          "base_uri": "https://localhost:8080/"
        },
        "id": "XlcCcqEMw-s2",
        "outputId": "85b4df97-11aa-43b5-c8ed-22b814fe6174"
      },
      "execution_count": 7,
      "outputs": [
        {
          "output_type": "stream",
          "name": "stdout",
          "text": [
            "This is my 1-d array\n",
            "[1 2 3 4 5]\n",
            "The dimension of this array is  1\n",
            "The sum of the element present in the second and fourth index is  6\n"
          ]
        }
      ]
    },
    {
      "cell_type": "code",
      "source": [
        "# creating 2-d array\n",
        "import numpy as np\n",
        "twoDimensionArray = np.array([[1,2,3,4,5],[6,7,8,9,10]])\n",
        "print(\"This is my 2-d array\")\n",
        "print(twoDimensionArray)\n",
        "print(\"Displaying 3rd element of the first row \",twoDimensionArray[0,2])\n",
        "print(\"Displaying 2nd element of the second row \",twoDimensionArray[1,1])"
      ],
      "metadata": {
        "colab": {
          "base_uri": "https://localhost:8080/"
        },
        "id": "pcfsbL-_yNaH",
        "outputId": "e781e55c-1a85-406d-db82-28e7555df30d"
      },
      "execution_count": 8,
      "outputs": [
        {
          "output_type": "stream",
          "name": "stdout",
          "text": [
            "This is my 2-d array\n",
            "[[ 1  2  3  4  5]\n",
            " [ 6  7  8  9 10]]\n",
            "Displaying 3rd element of the first row  3\n",
            "Displaying 2nd element of the second row  7\n"
          ]
        }
      ]
    },
    {
      "cell_type": "code",
      "source": [
        "#creating 3-d Array\n",
        "import numpy as np\n",
        "threeDimensionArray = np.array([[[1,2,3,],[4,5,6],[7,8,9]]])\n",
        "print(threeDimensionArray)\n",
        "print(\"the sum of the 3rd element of the 1st row & 3rd elementof the 2nd row & 3rd element of 3rd row:\",threeDimensionArray[0,0,2]+threeDimensionArray[0,1,2]+threeDimensionArray[0,2,2])"
      ],
      "metadata": {
        "colab": {
          "base_uri": "https://localhost:8080/"
        },
        "id": "6uup-tlYzv8X",
        "outputId": "cbcc9eb4-eacf-484a-90e4-b04cdaf13bee"
      },
      "execution_count": 14,
      "outputs": [
        {
          "output_type": "stream",
          "name": "stdout",
          "text": [
            "[[[1 2 3]\n",
            "  [4 5 6]\n",
            "  [7 8 9]]]\n",
            "the sum of the 3rd element of the 1st row & 3rd elementof the 2nd row & 3rd element of 3rd row: 18\n"
          ]
        }
      ]
    },
    {
      "cell_type": "code",
      "source": [
        "#creating 2-d array\n",
        "\n",
        "import numpy as np\n",
        "twoDimensionArray = np.array([[1,2,3,4,5],[6,7,8,9,10]])\n",
        "print(\"This is my 2-d array\")\n",
        "print(twoDimensionArray*2)"
      ],
      "metadata": {
        "colab": {
          "base_uri": "https://localhost:8080/"
        },
        "id": "c6FsDLgW7JXu",
        "outputId": "4f1e3f55-13f8-4c91-9469-c6c9124a05af"
      },
      "execution_count": 15,
      "outputs": [
        {
          "output_type": "stream",
          "name": "stdout",
          "text": [
            "This is my 2-d array\n",
            "[[ 2  4  6  8 10]\n",
            " [12 14 16 18 20]]\n"
          ]
        }
      ]
    },
    {
      "cell_type": "code",
      "source": [
        "# Array slicing\n",
        "\n",
        "import numpy as np\n",
        "oneDimensionArray = np.array([28,55,67,89,100,125,532])\n",
        "\n",
        "print(\"Your array is :\")\n",
        "print(oneDimensionArray)\n",
        "print(\"The dimension of this array is :\",oneDimensionArray.ndim)\n",
        "print(\"displaying element from 2nd to the index\",oneDimensionArray[2:5])\n",
        "print(\"displaying all element after 5th element of this array\",oneDimensionArray[2:])\n",
        "print(\"displaying all element before 5th element of this array\",oneDimensionArray[:5])"
      ],
      "metadata": {
        "colab": {
          "base_uri": "https://localhost:8080/"
        },
        "id": "tbGcCDp27afO",
        "outputId": "e33d31dd-d59f-47bf-8971-8830a99d1a49"
      },
      "execution_count": 17,
      "outputs": [
        {
          "output_type": "stream",
          "name": "stdout",
          "text": [
            "Your array is :\n",
            "[ 28  55  67  89 100 125 532]\n",
            "The dimension of this array is : 1\n",
            "displaying element from 2nd to the index [ 67  89 100]\n",
            "displaying all element after 5th element of this array [ 67  89 100 125 532]\n",
            "displaying all element before 5th element of this array [ 28  55  67  89 100]\n"
          ]
        }
      ]
    },
    {
      "cell_type": "code",
      "source": [
        "#creating 2-d array\n",
        "\n",
        "import numpy as np\n",
        "twoDimensionArray = np.array([[1,2,3,4,5,6,7,8],[9,10,11,12,13,14,15,16]])\n",
        "print(\"This is my 2-d array\")\n",
        "print(twoDimensionArray)\n",
        "print(\"The dimension of this array is :\",twoDimensionArray.ndim)\n",
        "print(\"displaying element from 3rd to 6th index\",twoDimensionArray[0,3:7])\n",
        "print(\"displaying all element after 5th element of this array\",twoDimensionArray[1,:5])"
      ],
      "metadata": {
        "colab": {
          "base_uri": "https://localhost:8080/"
        },
        "id": "gG9HFXVl7jcN",
        "outputId": "417b16ce-c9e0-4569-976e-f1e6b9e0955d"
      },
      "execution_count": 18,
      "outputs": [
        {
          "output_type": "stream",
          "name": "stdout",
          "text": [
            "This is my 2-d array\n",
            "[[ 1  2  3  4  5  6  7  8]\n",
            " [ 9 10 11 12 13 14 15 16]]\n",
            "The dimension of this array is : 2\n",
            "displaying element from 3rd to 6th index [3 4 5 6]\n",
            "displaying all element after 5th element of this array [ 9 10 11 12 13]\n"
          ]
        }
      ]
    },
    {
      "cell_type": "code",
      "source": [
        "import numpy as np\n",
        "realArray = np.array([10,9,8,7,6])\n",
        "duplicateArray = realArray.copy()\n",
        "print(\"This is the real Array:\",realArray)\n",
        "print(\"This is the duplicate Array:\",duplicateArray)\n",
        "duplicateArray[2] = 12\n",
        "print(\"This is the real Array:\",realArray)\n",
        "print(\"This is the duplicate Array:\",duplicateArray)"
      ],
      "metadata": {
        "colab": {
          "base_uri": "https://localhost:8080/"
        },
        "id": "qV3I_TJV7981",
        "outputId": "12bd95e0-f515-42b0-89e3-a37f27d53d86"
      },
      "execution_count": 19,
      "outputs": [
        {
          "output_type": "stream",
          "name": "stdout",
          "text": [
            "This is the real Array: [10  9  8  7  6]\n",
            "This is the duplicate Array: [10  9  8  7  6]\n",
            "This is the real Array: [10  9  8  7  6]\n",
            "This is the duplicate Array: [10  9 12  7  6]\n"
          ]
        }
      ]
    },
    {
      "cell_type": "code",
      "source": [
        "# \n",
        "import numpy as np\n",
        "oneDimensionArray = np.array([1,2,3,4,5])\n",
        "for i in oneDimensionArray:\n",
        "  print(i)"
      ],
      "metadata": {
        "colab": {
          "base_uri": "https://localhost:8080/"
        },
        "id": "pk1HRrtO_66O",
        "outputId": "82658b51-26e7-4904-ea82-8f11b9793437"
      },
      "execution_count": 1,
      "outputs": [
        {
          "output_type": "stream",
          "name": "stdout",
          "text": [
            "1\n",
            "2\n",
            "3\n",
            "4\n",
            "5\n"
          ]
        }
      ]
    },
    {
      "cell_type": "code",
      "source": [
        "#numpy iteration for 2-d array\n",
        "import numpy as np\n",
        "twoDimensionArray = np.array([[1,2],[3,4]])\n",
        "for i in twoDimensionArray:\n",
        "    print(i)"
      ],
      "metadata": {
        "colab": {
          "base_uri": "https://localhost:8080/"
        },
        "id": "4fKGaa3xWicv",
        "outputId": "ba77bfe4-4af4-4d39-95bd-507f85dacfc4"
      },
      "execution_count": 6,
      "outputs": [
        {
          "output_type": "stream",
          "name": "stdout",
          "text": [
            "[1 2]\n",
            "[3 4]\n"
          ]
        }
      ]
    },
    {
      "cell_type": "code",
      "source": [
        "#numpy iteration for 2-d array\n",
        "import numpy as np\n",
        "twoDimensionArray = np.array([[1,2],[3,4]])\n",
        "for i in twoDimensionArray:\n",
        "  for j in i:\n",
        "    print(j)"
      ],
      "metadata": {
        "colab": {
          "base_uri": "https://localhost:8080/"
        },
        "id": "3v0837otYBcK",
        "outputId": "80f3be0f-2cad-4767-a986-d80baeeb4bb5"
      },
      "execution_count": 7,
      "outputs": [
        {
          "output_type": "stream",
          "name": "stdout",
          "text": [
            "1\n",
            "2\n",
            "3\n",
            "4\n"
          ]
        }
      ]
    },
    {
      "cell_type": "code",
      "source": [
        "#numpy iterration for 3-d array\n",
        "import numpy as np\n",
        "threeDimensionArray = np.array([[[1,2],[3,4],[5,6]]])\n",
        "for i in threeDimensionArray:\n",
        "  for j in i:\n",
        "    for k in j:\n",
        "      print(k)"
      ],
      "metadata": {
        "colab": {
          "base_uri": "https://localhost:8080/"
        },
        "id": "CWWjZqx_YOxR",
        "outputId": "410646af-d5f0-423a-8d21-650296e5ac49"
      },
      "execution_count": 8,
      "outputs": [
        {
          "output_type": "stream",
          "name": "stdout",
          "text": [
            "1\n",
            "2\n",
            "3\n",
            "4\n",
            "5\n",
            "6\n"
          ]
        }
      ]
    },
    {
      "cell_type": "code",
      "source": [
        "#numpy iterrationusing nditer() function\n",
        "import numpy as np\n",
        "threeDimensionalArray = np.array([[[1,2],[3,4],[5,6]]])\n",
        "for i in np.nditer(threeDimensionalArray):\n",
        "  print(i)"
      ],
      "metadata": {
        "colab": {
          "base_uri": "https://localhost:8080/"
        },
        "id": "hZ0Z4ghPZIj8",
        "outputId": "ad0ac271-8909-46a2-c988-2a0e096ad302"
      },
      "execution_count": 9,
      "outputs": [
        {
          "output_type": "stream",
          "name": "stdout",
          "text": [
            "1\n",
            "2\n",
            "3\n",
            "4\n",
            "5\n",
            "6\n"
          ]
        }
      ]
    },
    {
      "cell_type": "code",
      "source": [
        "# Numpy Joins (Join 1-d array) using concatenate() function\n",
        "import numpy as np\n",
        "firstArray = np.array([1,2])\n",
        "print(\"This is the first array : \",firstArray)\n",
        "secondArray = np.array([3,4])\n",
        "print(\"This is the second array : \",secondArray)\n",
        "print(\"After joining two array: \",np.concatenate((firstArray,secondArray)))"
      ],
      "metadata": {
        "colab": {
          "base_uri": "https://localhost:8080/"
        },
        "id": "oY6i-oL-a_Sq",
        "outputId": "59f58d8c-e206-4136-d707-5bcfe341640b"
      },
      "execution_count": 11,
      "outputs": [
        {
          "output_type": "stream",
          "name": "stdout",
          "text": [
            "This is the first array :  [1 2]\n",
            "This is the second array :  [3 4]\n",
            "After joining two array:  [1 2 3 4]\n"
          ]
        }
      ]
    },
    {
      "cell_type": "code",
      "source": [
        "# Numpy Joins (Join 2-d array) using concatenate() function\n",
        "import numpy as np\n",
        "firstArray = np.array([[1,2],[3,4]])\n",
        "print(\"This is the first array : \\n\",firstArray)\n",
        "secondArray = np.array([[5,6],[7,8]])\n",
        "print(\"This is the second array : \\n\",secondArray)\n",
        "print(\"After joining two array :\\n\",np.concatenate((firstArray, secondArray),axis=1))"
      ],
      "metadata": {
        "colab": {
          "base_uri": "https://localhost:8080/"
        },
        "id": "Kd2RT4Etcm4v",
        "outputId": "e8cc8976-4935-4788-fde4-5dff3e816553"
      },
      "execution_count": 13,
      "outputs": [
        {
          "output_type": "stream",
          "name": "stdout",
          "text": [
            "This is the first array : \n",
            " [[1 2]\n",
            " [3 4]]\n",
            "This is the second array : \n",
            " [[5 6]\n",
            " [7 8]]\n",
            "After joining two array :\n",
            " [[1 2 5 6]\n",
            " [3 4 7 8]]\n"
          ]
        }
      ]
    },
    {
      "cell_type": "code",
      "source": [
        "# Numpy Joins (Join 2-d array) using concatenate() function in axis = 0\n",
        "import numpy as np\n",
        "firstArray = np.array([[1,2],[3,4]])\n",
        "print(\"This is the first array : \\n\",firstArray)\n",
        "secondArray = np.array([[5,6],[7,8]])\n",
        "print(\"This is the second array : \\n\",secondArray)\n",
        "print(\"After joining two array :\\n\",np.concatenate((firstArray, secondArray),axis=0))"
      ],
      "metadata": {
        "colab": {
          "base_uri": "https://localhost:8080/"
        },
        "id": "GNHoK-q8ezv9",
        "outputId": "2cc38336-1dff-4cd3-c3bd-72f843f56bf0"
      },
      "execution_count": 14,
      "outputs": [
        {
          "output_type": "stream",
          "name": "stdout",
          "text": [
            "This is the first array : \n",
            " [[1 2]\n",
            " [3 4]]\n",
            "This is the second array : \n",
            " [[5 6]\n",
            " [7 8]]\n",
            "After joining two array :\n",
            " [[1 2]\n",
            " [3 4]\n",
            " [5 6]\n",
            " [7 8]]\n"
          ]
        }
      ]
    },
    {
      "cell_type": "code",
      "source": [
        "#numpy joins using stack() function\n",
        "import numpy as np\n",
        "firstArray =np.array([1,11,111])\n",
        "print(\"First Array = \",firstArray)\n",
        "secondArray = np.array([2,22,222])\n",
        "print(\"Second Array = \",secondArray)\n",
        "print(\"After Joining two array : \\n\",np.stack((firstArray, secondArray)))"
      ],
      "metadata": {
        "colab": {
          "base_uri": "https://localhost:8080/"
        },
        "id": "btj55p8jez2i",
        "outputId": "a05a7d18-ea84-4270-918e-9c1d7b8eaabe"
      },
      "execution_count": 17,
      "outputs": [
        {
          "output_type": "stream",
          "name": "stdout",
          "text": [
            "First Array =  [  1  11 111]\n",
            "Second Array =  [  2  22 222]\n",
            "After Joining two array : \n",
            " [[  1  11 111]\n",
            " [  2  22 222]]\n"
          ]
        }
      ]
    },
    {
      "cell_type": "code",
      "source": [
        "#numpy joins using stack() function [axis = 1]\n",
        "import numpy as np\n",
        "firstArray =np.array([1,11,111])\n",
        "print(\"First Array = \",firstArray)\n",
        "secondArray = np.array([2,22,222])\n",
        "print(\"Second Array = \",secondArray)\n",
        "print(\"After Joining two array : \\n\",np.stack((firstArray, secondArray),axis=1))"
      ],
      "metadata": {
        "colab": {
          "base_uri": "https://localhost:8080/"
        },
        "id": "54xRteicgxNX",
        "outputId": "5c3da16f-564d-4666-e09c-c77031191ee6"
      },
      "execution_count": 18,
      "outputs": [
        {
          "output_type": "stream",
          "name": "stdout",
          "text": [
            "First Array =  [  1  11 111]\n",
            "Second Array =  [  2  22 222]\n",
            "After Joining two array : \n",
            " [[  1   2]\n",
            " [ 11  22]\n",
            " [111 222]]\n"
          ]
        }
      ]
    },
    {
      "cell_type": "code",
      "source": [
        "#numpy joins using stack() function\n",
        "import numpy as np\n",
        "firstArray =np.array([1,2,3])\n",
        "print(\"The first Array is = \",firstArray)\n",
        "secondArray = np.array([4,5,6])\n",
        "print(\"The second Array is = \",secondArray)\n",
        "print(\"After Joining two array : \",np.hstack((firstArray, secondArray)))"
      ],
      "metadata": {
        "colab": {
          "base_uri": "https://localhost:8080/"
        },
        "id": "3BVpjeOng_Kl",
        "outputId": "93de40c4-9050-45b6-b47a-8f8b1e2feba5"
      },
      "execution_count": 21,
      "outputs": [
        {
          "output_type": "stream",
          "name": "stdout",
          "text": [
            "The first Array is =  [1 2 3]\n",
            "The second Array is =  [4 5 6]\n",
            "After Joining two array :  [1 2 3 4 5 6]\n"
          ]
        }
      ]
    },
    {
      "cell_type": "code",
      "source": [
        "# Numpy Splitting\n",
        "import numpy as np\n",
        "array = np.array([1,2,3,4,5,6,7,8,9,10])\n",
        "print(\"the array is : \",array)\n",
        "#splitting array into 3 parts\n",
        "print(\"After Splitting : \",np.array_split(array, 3))"
      ],
      "metadata": {
        "colab": {
          "base_uri": "https://localhost:8080/"
        },
        "id": "07lxCW4EkNsq",
        "outputId": "b9fdd6a1-844b-4ea2-8492-832c24f13585"
      },
      "execution_count": 25,
      "outputs": [
        {
          "output_type": "stream",
          "name": "stdout",
          "text": [
            "the array is :  [ 1  2  3  4  5  6  7  8  9 10]\n",
            "After Splitting :  [array([1, 2, 3, 4]), array([5, 6, 7]), array([ 8,  9, 10])]\n"
          ]
        }
      ]
    },
    {
      "cell_type": "code",
      "source": [
        "#numpy search\n",
        "import numpy as np\n",
        "array = np.array([1,2,3,4,4,5,6,4])\n",
        "print(\"The array is : \",array)\n",
        "# find all the index where value = 4 exists\n",
        "var = np.where(array == 4)\n",
        "print(var)"
      ],
      "metadata": {
        "colab": {
          "base_uri": "https://localhost:8080/"
        },
        "id": "QRBnj6k-nv5C",
        "outputId": "a6c6088b-33b9-4c76-937a-b00fbd188649"
      },
      "execution_count": 26,
      "outputs": [
        {
          "output_type": "stream",
          "name": "stdout",
          "text": [
            "The array is :  [1 2 3 4 4 5 6 4]\n",
            "(array([3, 4, 7]),)\n"
          ]
        }
      ]
    },
    {
      "cell_type": "code",
      "source": [
        " #numpy search\n",
        "import numpy as np\n",
        "array = np.array([1,2,3,6,11,12,27])\n",
        "print(\"The array is : \",array)\n",
        "# find all the index where value is divisible by 3 exits\n",
        "var = np.where(array % 3 == 0)\n",
        "print(var)"
      ],
      "metadata": {
        "colab": {
          "base_uri": "https://localhost:8080/"
        },
        "id": "7KQJhhfGpXiP",
        "outputId": "377e978b-45b4-498a-9236-51dbb585d64d"
      },
      "execution_count": 27,
      "outputs": [
        {
          "output_type": "stream",
          "name": "stdout",
          "text": [
            "The array is :  [ 1  2  3  6 11 12 27]\n",
            "(array([2, 3, 5, 6]),)\n"
          ]
        }
      ]
    },
    {
      "cell_type": "code",
      "source": [
        "# Numpy sorting\n",
        "import numpy as np\n",
        "arr=np.array([1,5,6,2,5,8,43,12,32])\n",
        "print(\"This is the Array:\\n\",arr)\n",
        "print(\"After sorting the array:\\n\",np.sort(arr))"
      ],
      "metadata": {
        "id": "8eFlsT3AqZxL"
      },
      "execution_count": null,
      "outputs": []
    },
    {
      "cell_type": "code",
      "source": [
        "# pandas datafram\n",
        "import pandas as pd\n",
        "Team_Description={\n",
        "    \"team_leader\":[\"Ayush\",\"Muskan\",\"Jubraj\"],\n",
        "    \"project_name\":[\"Face recognation\",\"Voice recognation\",\"chatbot\"]\n",
        "}\n",
        "dataFrame = pd.DataFrame(Team_Description,index=[\"Team ayush\",\"Team muskan\",\"team jubraj\"])\n",
        "print(dataFrame)"
      ],
      "metadata": {
        "colab": {
          "base_uri": "https://localhost:8080/"
        },
        "id": "txZQPx6g5wOG",
        "outputId": "7569e578-17ca-410a-9f14-6bba84744130"
      },
      "execution_count": 1,
      "outputs": [
        {
          "output_type": "stream",
          "name": "stdout",
          "text": [
            "            team_leader       project_name\n",
            "Team ayush        Ayush   Face recognation\n",
            "Team muskan      Muskan  Voice recognation\n",
            "team jubraj      Jubraj            chatbot\n"
          ]
        }
      ]
    },
    {
      "cell_type": "code",
      "source": [
        "# panda series\n",
        "import pandas as pd\n",
        "array =[3,4,5]\n",
        "print(\"this is the example of series in pandas.\")\n",
        "print(pd.Series(array))\n",
        "print(array[0])"
      ],
      "metadata": {
        "colab": {
          "base_uri": "https://localhost:8080/"
        },
        "id": "kNgdYdy96T0C",
        "outputId": "ed272ab8-e71d-40d5-dc08-73ae3661f3be"
      },
      "execution_count": 3,
      "outputs": [
        {
          "output_type": "stream",
          "name": "stdout",
          "text": [
            "this is the example of series in pandas.\n",
            "0    3\n",
            "1    4\n",
            "2    5\n",
            "dtype: int64\n",
            "3\n"
          ]
        }
      ]
    },
    {
      "cell_type": "code",
      "source": [
        "#panda upload CSV\n",
        "from google.colab import files\n",
        "uploaded = files.upload()"
      ],
      "metadata": {
        "colab": {
          "base_uri": "https://localhost:8080/",
          "height": 73
        },
        "id": "qKBDWpCk56GQ",
        "outputId": "d954e97a-40f3-4f56-d547-7602de276676"
      },
      "execution_count": 27,
      "outputs": [
        {
          "output_type": "display_data",
          "data": {
            "text/plain": [
              "<IPython.core.display.HTML object>"
            ],
            "text/html": [
              "\n",
              "     <input type=\"file\" id=\"files-a7e60ea8-e328-4a5f-b89b-9ed4d81e2149\" name=\"files[]\" multiple disabled\n",
              "        style=\"border:none\" />\n",
              "     <output id=\"result-a7e60ea8-e328-4a5f-b89b-9ed4d81e2149\">\n",
              "      Upload widget is only available when the cell has been executed in the\n",
              "      current browser session. Please rerun this cell to enable.\n",
              "      </output>\n",
              "      <script>// Copyright 2017 Google LLC\n",
              "//\n",
              "// Licensed under the Apache License, Version 2.0 (the \"License\");\n",
              "// you may not use this file except in compliance with the License.\n",
              "// You may obtain a copy of the License at\n",
              "//\n",
              "//      http://www.apache.org/licenses/LICENSE-2.0\n",
              "//\n",
              "// Unless required by applicable law or agreed to in writing, software\n",
              "// distributed under the License is distributed on an \"AS IS\" BASIS,\n",
              "// WITHOUT WARRANTIES OR CONDITIONS OF ANY KIND, either express or implied.\n",
              "// See the License for the specific language governing permissions and\n",
              "// limitations under the License.\n",
              "\n",
              "/**\n",
              " * @fileoverview Helpers for google.colab Python module.\n",
              " */\n",
              "(function(scope) {\n",
              "function span(text, styleAttributes = {}) {\n",
              "  const element = document.createElement('span');\n",
              "  element.textContent = text;\n",
              "  for (const key of Object.keys(styleAttributes)) {\n",
              "    element.style[key] = styleAttributes[key];\n",
              "  }\n",
              "  return element;\n",
              "}\n",
              "\n",
              "// Max number of bytes which will be uploaded at a time.\n",
              "const MAX_PAYLOAD_SIZE = 100 * 1024;\n",
              "\n",
              "function _uploadFiles(inputId, outputId) {\n",
              "  const steps = uploadFilesStep(inputId, outputId);\n",
              "  const outputElement = document.getElementById(outputId);\n",
              "  // Cache steps on the outputElement to make it available for the next call\n",
              "  // to uploadFilesContinue from Python.\n",
              "  outputElement.steps = steps;\n",
              "\n",
              "  return _uploadFilesContinue(outputId);\n",
              "}\n",
              "\n",
              "// This is roughly an async generator (not supported in the browser yet),\n",
              "// where there are multiple asynchronous steps and the Python side is going\n",
              "// to poll for completion of each step.\n",
              "// This uses a Promise to block the python side on completion of each step,\n",
              "// then passes the result of the previous step as the input to the next step.\n",
              "function _uploadFilesContinue(outputId) {\n",
              "  const outputElement = document.getElementById(outputId);\n",
              "  const steps = outputElement.steps;\n",
              "\n",
              "  const next = steps.next(outputElement.lastPromiseValue);\n",
              "  return Promise.resolve(next.value.promise).then((value) => {\n",
              "    // Cache the last promise value to make it available to the next\n",
              "    // step of the generator.\n",
              "    outputElement.lastPromiseValue = value;\n",
              "    return next.value.response;\n",
              "  });\n",
              "}\n",
              "\n",
              "/**\n",
              " * Generator function which is called between each async step of the upload\n",
              " * process.\n",
              " * @param {string} inputId Element ID of the input file picker element.\n",
              " * @param {string} outputId Element ID of the output display.\n",
              " * @return {!Iterable<!Object>} Iterable of next steps.\n",
              " */\n",
              "function* uploadFilesStep(inputId, outputId) {\n",
              "  const inputElement = document.getElementById(inputId);\n",
              "  inputElement.disabled = false;\n",
              "\n",
              "  const outputElement = document.getElementById(outputId);\n",
              "  outputElement.innerHTML = '';\n",
              "\n",
              "  const pickedPromise = new Promise((resolve) => {\n",
              "    inputElement.addEventListener('change', (e) => {\n",
              "      resolve(e.target.files);\n",
              "    });\n",
              "  });\n",
              "\n",
              "  const cancel = document.createElement('button');\n",
              "  inputElement.parentElement.appendChild(cancel);\n",
              "  cancel.textContent = 'Cancel upload';\n",
              "  const cancelPromise = new Promise((resolve) => {\n",
              "    cancel.onclick = () => {\n",
              "      resolve(null);\n",
              "    };\n",
              "  });\n",
              "\n",
              "  // Wait for the user to pick the files.\n",
              "  const files = yield {\n",
              "    promise: Promise.race([pickedPromise, cancelPromise]),\n",
              "    response: {\n",
              "      action: 'starting',\n",
              "    }\n",
              "  };\n",
              "\n",
              "  cancel.remove();\n",
              "\n",
              "  // Disable the input element since further picks are not allowed.\n",
              "  inputElement.disabled = true;\n",
              "\n",
              "  if (!files) {\n",
              "    return {\n",
              "      response: {\n",
              "        action: 'complete',\n",
              "      }\n",
              "    };\n",
              "  }\n",
              "\n",
              "  for (const file of files) {\n",
              "    const li = document.createElement('li');\n",
              "    li.append(span(file.name, {fontWeight: 'bold'}));\n",
              "    li.append(span(\n",
              "        `(${file.type || 'n/a'}) - ${file.size} bytes, ` +\n",
              "        `last modified: ${\n",
              "            file.lastModifiedDate ? file.lastModifiedDate.toLocaleDateString() :\n",
              "                                    'n/a'} - `));\n",
              "    const percent = span('0% done');\n",
              "    li.appendChild(percent);\n",
              "\n",
              "    outputElement.appendChild(li);\n",
              "\n",
              "    const fileDataPromise = new Promise((resolve) => {\n",
              "      const reader = new FileReader();\n",
              "      reader.onload = (e) => {\n",
              "        resolve(e.target.result);\n",
              "      };\n",
              "      reader.readAsArrayBuffer(file);\n",
              "    });\n",
              "    // Wait for the data to be ready.\n",
              "    let fileData = yield {\n",
              "      promise: fileDataPromise,\n",
              "      response: {\n",
              "        action: 'continue',\n",
              "      }\n",
              "    };\n",
              "\n",
              "    // Use a chunked sending to avoid message size limits. See b/62115660.\n",
              "    let position = 0;\n",
              "    do {\n",
              "      const length = Math.min(fileData.byteLength - position, MAX_PAYLOAD_SIZE);\n",
              "      const chunk = new Uint8Array(fileData, position, length);\n",
              "      position += length;\n",
              "\n",
              "      const base64 = btoa(String.fromCharCode.apply(null, chunk));\n",
              "      yield {\n",
              "        response: {\n",
              "          action: 'append',\n",
              "          file: file.name,\n",
              "          data: base64,\n",
              "        },\n",
              "      };\n",
              "\n",
              "      let percentDone = fileData.byteLength === 0 ?\n",
              "          100 :\n",
              "          Math.round((position / fileData.byteLength) * 100);\n",
              "      percent.textContent = `${percentDone}% done`;\n",
              "\n",
              "    } while (position < fileData.byteLength);\n",
              "  }\n",
              "\n",
              "  // All done.\n",
              "  yield {\n",
              "    response: {\n",
              "      action: 'complete',\n",
              "    }\n",
              "  };\n",
              "}\n",
              "\n",
              "scope.google = scope.google || {};\n",
              "scope.google.colab = scope.google.colab || {};\n",
              "scope.google.colab._files = {\n",
              "  _uploadFiles,\n",
              "  _uploadFilesContinue,\n",
              "};\n",
              "})(self);\n",
              "</script> "
            ]
          },
          "metadata": {}
        },
        {
          "output_type": "stream",
          "name": "stdout",
          "text": [
            "Saving WEEKLY REPORT.csv to WEEKLY REPORT (1).csv\n"
          ]
        }
      ]
    },
    {
      "cell_type": "code",
      "source": [
        "# panda reading CSV files\n",
        "import pandas as pd\n",
        "hotel = pd.read_csv(\"WEEKLY REPORT.csv\")\n",
        "print(\"This is the weekly report :\")\n",
        "print(hotel)\n"
      ],
      "metadata": {
        "colab": {
          "base_uri": "https://localhost:8080/"
        },
        "id": "bWaa6Pc67RVP",
        "outputId": "a40471c6-9c2f-49b2-dd10-b2dc9eb09e6a"
      },
      "execution_count": 5,
      "outputs": [
        {
          "output_type": "stream",
          "name": "stdout",
          "text": [
            "This is the weekly report :\n",
            "        Days  MOMOS  CHOWMIN  SPRING-ROLL  EGG ROLL  COFFEE\n",
            "0    Mondays    500      300          200       800     700\n",
            "1    Tuesday    300      400          300       700     400\n",
            "2  Wednesday    400      500          400       600     200\n",
            "3   Thrusday    600      700          500       500     500\n",
            "4     Friday    700      600          600       400     300\n",
            "5   Saturday    200      200          700       300     600\n",
            "6     Sunday    800      800          800       200     700\n"
          ]
        }
      ]
    },
    {
      "cell_type": "code",
      "source": [
        "# panda reading CSV files\n",
        "import pandas as pd\n",
        "hotel = pd.read_csv(\"WEEKLY REPORT.csv\")\n",
        "print(\"This is the weekly report :\")\n",
        "print(hotel)\n",
        "print()\n",
        "print()\n",
        "searchTeamName = hotel[[\"Days\",\"MOMOS\",\"COFFEE\"]]\n",
        "searchTeamName"
      ],
      "metadata": {
        "colab": {
          "base_uri": "https://localhost:8080/",
          "height": 459
        },
        "id": "8OEEAj-Y88Mi",
        "outputId": "197931c2-a52c-4eb5-93b6-2fa4b1135ad8"
      },
      "execution_count": 15,
      "outputs": [
        {
          "output_type": "stream",
          "name": "stdout",
          "text": [
            "This is the weekly report :\n",
            "        Days  MOMOS  CHOWMIN  SPRING-ROLL  EGG ROLL  COFFEE\n",
            "0    Mondays    500      300          200       800     700\n",
            "1    Tuesday    300      400          300       700     400\n",
            "2  Wednesday    400      500          400       600     200\n",
            "3   Thrusday    600      700          500       500     500\n",
            "4     Friday    700      600          600       400     300\n",
            "5   Saturday    200      200          700       300     600\n",
            "6     Sunday    800      800          800       200     700\n",
            "\n",
            "\n"
          ]
        },
        {
          "output_type": "execute_result",
          "data": {
            "text/plain": [
              "        Days  MOMOS  COFFEE\n",
              "0    Mondays    500     700\n",
              "1    Tuesday    300     400\n",
              "2  Wednesday    400     200\n",
              "3   Thrusday    600     500\n",
              "4     Friday    700     300\n",
              "5   Saturday    200     600\n",
              "6     Sunday    800     700"
            ],
            "text/html": [
              "\n",
              "  <div id=\"df-d77892a6-d9e8-4a07-afc4-395942a3f299\">\n",
              "    <div class=\"colab-df-container\">\n",
              "      <div>\n",
              "<style scoped>\n",
              "    .dataframe tbody tr th:only-of-type {\n",
              "        vertical-align: middle;\n",
              "    }\n",
              "\n",
              "    .dataframe tbody tr th {\n",
              "        vertical-align: top;\n",
              "    }\n",
              "\n",
              "    .dataframe thead th {\n",
              "        text-align: right;\n",
              "    }\n",
              "</style>\n",
              "<table border=\"1\" class=\"dataframe\">\n",
              "  <thead>\n",
              "    <tr style=\"text-align: right;\">\n",
              "      <th></th>\n",
              "      <th>Days</th>\n",
              "      <th>MOMOS</th>\n",
              "      <th>COFFEE</th>\n",
              "    </tr>\n",
              "  </thead>\n",
              "  <tbody>\n",
              "    <tr>\n",
              "      <th>0</th>\n",
              "      <td>Mondays</td>\n",
              "      <td>500</td>\n",
              "      <td>700</td>\n",
              "    </tr>\n",
              "    <tr>\n",
              "      <th>1</th>\n",
              "      <td>Tuesday</td>\n",
              "      <td>300</td>\n",
              "      <td>400</td>\n",
              "    </tr>\n",
              "    <tr>\n",
              "      <th>2</th>\n",
              "      <td>Wednesday</td>\n",
              "      <td>400</td>\n",
              "      <td>200</td>\n",
              "    </tr>\n",
              "    <tr>\n",
              "      <th>3</th>\n",
              "      <td>Thrusday</td>\n",
              "      <td>600</td>\n",
              "      <td>500</td>\n",
              "    </tr>\n",
              "    <tr>\n",
              "      <th>4</th>\n",
              "      <td>Friday</td>\n",
              "      <td>700</td>\n",
              "      <td>300</td>\n",
              "    </tr>\n",
              "    <tr>\n",
              "      <th>5</th>\n",
              "      <td>Saturday</td>\n",
              "      <td>200</td>\n",
              "      <td>600</td>\n",
              "    </tr>\n",
              "    <tr>\n",
              "      <th>6</th>\n",
              "      <td>Sunday</td>\n",
              "      <td>800</td>\n",
              "      <td>700</td>\n",
              "    </tr>\n",
              "  </tbody>\n",
              "</table>\n",
              "</div>\n",
              "      <button class=\"colab-df-convert\" onclick=\"convertToInteractive('df-d77892a6-d9e8-4a07-afc4-395942a3f299')\"\n",
              "              title=\"Convert this dataframe to an interactive table.\"\n",
              "              style=\"display:none;\">\n",
              "        \n",
              "  <svg xmlns=\"http://www.w3.org/2000/svg\" height=\"24px\"viewBox=\"0 0 24 24\"\n",
              "       width=\"24px\">\n",
              "    <path d=\"M0 0h24v24H0V0z\" fill=\"none\"/>\n",
              "    <path d=\"M18.56 5.44l.94 2.06.94-2.06 2.06-.94-2.06-.94-.94-2.06-.94 2.06-2.06.94zm-11 1L8.5 8.5l.94-2.06 2.06-.94-2.06-.94L8.5 2.5l-.94 2.06-2.06.94zm10 10l.94 2.06.94-2.06 2.06-.94-2.06-.94-.94-2.06-.94 2.06-2.06.94z\"/><path d=\"M17.41 7.96l-1.37-1.37c-.4-.4-.92-.59-1.43-.59-.52 0-1.04.2-1.43.59L10.3 9.45l-7.72 7.72c-.78.78-.78 2.05 0 2.83L4 21.41c.39.39.9.59 1.41.59.51 0 1.02-.2 1.41-.59l7.78-7.78 2.81-2.81c.8-.78.8-2.07 0-2.86zM5.41 20L4 18.59l7.72-7.72 1.47 1.35L5.41 20z\"/>\n",
              "  </svg>\n",
              "      </button>\n",
              "      \n",
              "  <style>\n",
              "    .colab-df-container {\n",
              "      display:flex;\n",
              "      flex-wrap:wrap;\n",
              "      gap: 12px;\n",
              "    }\n",
              "\n",
              "    .colab-df-convert {\n",
              "      background-color: #E8F0FE;\n",
              "      border: none;\n",
              "      border-radius: 50%;\n",
              "      cursor: pointer;\n",
              "      display: none;\n",
              "      fill: #1967D2;\n",
              "      height: 32px;\n",
              "      padding: 0 0 0 0;\n",
              "      width: 32px;\n",
              "    }\n",
              "\n",
              "    .colab-df-convert:hover {\n",
              "      background-color: #E2EBFA;\n",
              "      box-shadow: 0px 1px 2px rgba(60, 64, 67, 0.3), 0px 1px 3px 1px rgba(60, 64, 67, 0.15);\n",
              "      fill: #174EA6;\n",
              "    }\n",
              "\n",
              "    [theme=dark] .colab-df-convert {\n",
              "      background-color: #3B4455;\n",
              "      fill: #D2E3FC;\n",
              "    }\n",
              "\n",
              "    [theme=dark] .colab-df-convert:hover {\n",
              "      background-color: #434B5C;\n",
              "      box-shadow: 0px 1px 3px 1px rgba(0, 0, 0, 0.15);\n",
              "      filter: drop-shadow(0px 1px 2px rgba(0, 0, 0, 0.3));\n",
              "      fill: #FFFFFF;\n",
              "    }\n",
              "  </style>\n",
              "\n",
              "      <script>\n",
              "        const buttonEl =\n",
              "          document.querySelector('#df-d77892a6-d9e8-4a07-afc4-395942a3f299 button.colab-df-convert');\n",
              "        buttonEl.style.display =\n",
              "          google.colab.kernel.accessAllowed ? 'block' : 'none';\n",
              "\n",
              "        async function convertToInteractive(key) {\n",
              "          const element = document.querySelector('#df-d77892a6-d9e8-4a07-afc4-395942a3f299');\n",
              "          const dataTable =\n",
              "            await google.colab.kernel.invokeFunction('convertToInteractive',\n",
              "                                                     [key], {});\n",
              "          if (!dataTable) return;\n",
              "\n",
              "          const docLinkHtml = 'Like what you see? Visit the ' +\n",
              "            '<a target=\"_blank\" href=https://colab.research.google.com/notebooks/data_table.ipynb>data table notebook</a>'\n",
              "            + ' to learn more about interactive tables.';\n",
              "          element.innerHTML = '';\n",
              "          dataTable['output_type'] = 'display_data';\n",
              "          await google.colab.output.renderOutput(dataTable, element);\n",
              "          const docLink = document.createElement('div');\n",
              "          docLink.innerHTML = docLinkHtml;\n",
              "          element.appendChild(docLink);\n",
              "        }\n",
              "      </script>\n",
              "    </div>\n",
              "  </div>\n",
              "  "
            ]
          },
          "metadata": {},
          "execution_count": 15
        }
      ]
    },
    {
      "cell_type": "code",
      "source": [
        "# panda reading CSV files\n",
        "import pandas as pd\n",
        "hotel = pd.read_csv(\"WEEKLY REPORT.csv\")\n",
        "print(\"This is the weekly report :\")\n",
        "print(hotel)\n",
        "print()\n",
        "print()\n",
        "searchTeamName = hotel[[\"Days\",\"MOMOS\",\"EGG ROLL\"]]\n",
        "searchTeamName"
      ],
      "metadata": {
        "colab": {
          "base_uri": "https://localhost:8080/",
          "height": 459
        },
        "id": "H8i0O4aqBU3w",
        "outputId": "9f64e268-90c4-4403-ce83-58b3c4cb77e9"
      },
      "execution_count": 17,
      "outputs": [
        {
          "output_type": "stream",
          "name": "stdout",
          "text": [
            "This is the weekly report :\n",
            "        Days  MOMOS  CHOWMIN  SPRING-ROLL  EGG ROLL  COFFEE\n",
            "0    Mondays    500      300          200       800     700\n",
            "1    Tuesday    300      400          300       700     400\n",
            "2  Wednesday    400      500          400       600     200\n",
            "3   Thrusday    600      700          500       500     500\n",
            "4     Friday    700      600          600       400     300\n",
            "5   Saturday    200      200          700       300     600\n",
            "6     Sunday    800      800          800       200     700\n",
            "\n",
            "\n"
          ]
        },
        {
          "output_type": "execute_result",
          "data": {
            "text/plain": [
              "        Days  MOMOS  EGG ROLL\n",
              "0    Mondays    500       800\n",
              "1    Tuesday    300       700\n",
              "2  Wednesday    400       600\n",
              "3   Thrusday    600       500\n",
              "4     Friday    700       400\n",
              "5   Saturday    200       300\n",
              "6     Sunday    800       200"
            ],
            "text/html": [
              "\n",
              "  <div id=\"df-ea4d08f3-a161-4d60-9eb5-92230c7162e4\">\n",
              "    <div class=\"colab-df-container\">\n",
              "      <div>\n",
              "<style scoped>\n",
              "    .dataframe tbody tr th:only-of-type {\n",
              "        vertical-align: middle;\n",
              "    }\n",
              "\n",
              "    .dataframe tbody tr th {\n",
              "        vertical-align: top;\n",
              "    }\n",
              "\n",
              "    .dataframe thead th {\n",
              "        text-align: right;\n",
              "    }\n",
              "</style>\n",
              "<table border=\"1\" class=\"dataframe\">\n",
              "  <thead>\n",
              "    <tr style=\"text-align: right;\">\n",
              "      <th></th>\n",
              "      <th>Days</th>\n",
              "      <th>MOMOS</th>\n",
              "      <th>EGG ROLL</th>\n",
              "    </tr>\n",
              "  </thead>\n",
              "  <tbody>\n",
              "    <tr>\n",
              "      <th>0</th>\n",
              "      <td>Mondays</td>\n",
              "      <td>500</td>\n",
              "      <td>800</td>\n",
              "    </tr>\n",
              "    <tr>\n",
              "      <th>1</th>\n",
              "      <td>Tuesday</td>\n",
              "      <td>300</td>\n",
              "      <td>700</td>\n",
              "    </tr>\n",
              "    <tr>\n",
              "      <th>2</th>\n",
              "      <td>Wednesday</td>\n",
              "      <td>400</td>\n",
              "      <td>600</td>\n",
              "    </tr>\n",
              "    <tr>\n",
              "      <th>3</th>\n",
              "      <td>Thrusday</td>\n",
              "      <td>600</td>\n",
              "      <td>500</td>\n",
              "    </tr>\n",
              "    <tr>\n",
              "      <th>4</th>\n",
              "      <td>Friday</td>\n",
              "      <td>700</td>\n",
              "      <td>400</td>\n",
              "    </tr>\n",
              "    <tr>\n",
              "      <th>5</th>\n",
              "      <td>Saturday</td>\n",
              "      <td>200</td>\n",
              "      <td>300</td>\n",
              "    </tr>\n",
              "    <tr>\n",
              "      <th>6</th>\n",
              "      <td>Sunday</td>\n",
              "      <td>800</td>\n",
              "      <td>200</td>\n",
              "    </tr>\n",
              "  </tbody>\n",
              "</table>\n",
              "</div>\n",
              "      <button class=\"colab-df-convert\" onclick=\"convertToInteractive('df-ea4d08f3-a161-4d60-9eb5-92230c7162e4')\"\n",
              "              title=\"Convert this dataframe to an interactive table.\"\n",
              "              style=\"display:none;\">\n",
              "        \n",
              "  <svg xmlns=\"http://www.w3.org/2000/svg\" height=\"24px\"viewBox=\"0 0 24 24\"\n",
              "       width=\"24px\">\n",
              "    <path d=\"M0 0h24v24H0V0z\" fill=\"none\"/>\n",
              "    <path d=\"M18.56 5.44l.94 2.06.94-2.06 2.06-.94-2.06-.94-.94-2.06-.94 2.06-2.06.94zm-11 1L8.5 8.5l.94-2.06 2.06-.94-2.06-.94L8.5 2.5l-.94 2.06-2.06.94zm10 10l.94 2.06.94-2.06 2.06-.94-2.06-.94-.94-2.06-.94 2.06-2.06.94z\"/><path d=\"M17.41 7.96l-1.37-1.37c-.4-.4-.92-.59-1.43-.59-.52 0-1.04.2-1.43.59L10.3 9.45l-7.72 7.72c-.78.78-.78 2.05 0 2.83L4 21.41c.39.39.9.59 1.41.59.51 0 1.02-.2 1.41-.59l7.78-7.78 2.81-2.81c.8-.78.8-2.07 0-2.86zM5.41 20L4 18.59l7.72-7.72 1.47 1.35L5.41 20z\"/>\n",
              "  </svg>\n",
              "      </button>\n",
              "      \n",
              "  <style>\n",
              "    .colab-df-container {\n",
              "      display:flex;\n",
              "      flex-wrap:wrap;\n",
              "      gap: 12px;\n",
              "    }\n",
              "\n",
              "    .colab-df-convert {\n",
              "      background-color: #E8F0FE;\n",
              "      border: none;\n",
              "      border-radius: 50%;\n",
              "      cursor: pointer;\n",
              "      display: none;\n",
              "      fill: #1967D2;\n",
              "      height: 32px;\n",
              "      padding: 0 0 0 0;\n",
              "      width: 32px;\n",
              "    }\n",
              "\n",
              "    .colab-df-convert:hover {\n",
              "      background-color: #E2EBFA;\n",
              "      box-shadow: 0px 1px 2px rgba(60, 64, 67, 0.3), 0px 1px 3px 1px rgba(60, 64, 67, 0.15);\n",
              "      fill: #174EA6;\n",
              "    }\n",
              "\n",
              "    [theme=dark] .colab-df-convert {\n",
              "      background-color: #3B4455;\n",
              "      fill: #D2E3FC;\n",
              "    }\n",
              "\n",
              "    [theme=dark] .colab-df-convert:hover {\n",
              "      background-color: #434B5C;\n",
              "      box-shadow: 0px 1px 3px 1px rgba(0, 0, 0, 0.15);\n",
              "      filter: drop-shadow(0px 1px 2px rgba(0, 0, 0, 0.3));\n",
              "      fill: #FFFFFF;\n",
              "    }\n",
              "  </style>\n",
              "\n",
              "      <script>\n",
              "        const buttonEl =\n",
              "          document.querySelector('#df-ea4d08f3-a161-4d60-9eb5-92230c7162e4 button.colab-df-convert');\n",
              "        buttonEl.style.display =\n",
              "          google.colab.kernel.accessAllowed ? 'block' : 'none';\n",
              "\n",
              "        async function convertToInteractive(key) {\n",
              "          const element = document.querySelector('#df-ea4d08f3-a161-4d60-9eb5-92230c7162e4');\n",
              "          const dataTable =\n",
              "            await google.colab.kernel.invokeFunction('convertToInteractive',\n",
              "                                                     [key], {});\n",
              "          if (!dataTable) return;\n",
              "\n",
              "          const docLinkHtml = 'Like what you see? Visit the ' +\n",
              "            '<a target=\"_blank\" href=https://colab.research.google.com/notebooks/data_table.ipynb>data table notebook</a>'\n",
              "            + ' to learn more about interactive tables.';\n",
              "          element.innerHTML = '';\n",
              "          dataTable['output_type'] = 'display_data';\n",
              "          await google.colab.output.renderOutput(dataTable, element);\n",
              "          const docLink = document.createElement('div');\n",
              "          docLink.innerHTML = docLinkHtml;\n",
              "          element.appendChild(docLink);\n",
              "        }\n",
              "      </script>\n",
              "    </div>\n",
              "  </div>\n",
              "  "
            ]
          },
          "metadata": {},
          "execution_count": 17
        }
      ]
    },
    {
      "cell_type": "code",
      "source": [
        "#pandas writing files\n",
        "import pandas as pd\n",
        "df= pd.read_csv(\"WEEKLY REPORT.csv\")\n",
        "df"
      ],
      "metadata": {
        "colab": {
          "base_uri": "https://localhost:8080/",
          "height": 269
        },
        "id": "1iNJ_b7MDdBl",
        "outputId": "891f67b6-5c6c-4ea7-de86-139275c42ee3"
      },
      "execution_count": 23,
      "outputs": [
        {
          "output_type": "execute_result",
          "data": {
            "text/plain": [
              "        Days  MOMOS  CHOWMIN  SPRING-ROLL  EGG ROLL  COFFEE\n",
              "0    Mondays    500      300          200       800     700\n",
              "1    Tuesday    300      400          300       700     400\n",
              "2  Wednesday    400      500          400       600     200\n",
              "3   Thrusday    600      700          500       500     500\n",
              "4     Friday    700      600          600       400     300\n",
              "5   Saturday    200      200          700       300     600\n",
              "6     Sunday    800      800          800       200     700"
            ],
            "text/html": [
              "\n",
              "  <div id=\"df-3db142f9-e897-44f8-979d-fc62f5b7ba53\">\n",
              "    <div class=\"colab-df-container\">\n",
              "      <div>\n",
              "<style scoped>\n",
              "    .dataframe tbody tr th:only-of-type {\n",
              "        vertical-align: middle;\n",
              "    }\n",
              "\n",
              "    .dataframe tbody tr th {\n",
              "        vertical-align: top;\n",
              "    }\n",
              "\n",
              "    .dataframe thead th {\n",
              "        text-align: right;\n",
              "    }\n",
              "</style>\n",
              "<table border=\"1\" class=\"dataframe\">\n",
              "  <thead>\n",
              "    <tr style=\"text-align: right;\">\n",
              "      <th></th>\n",
              "      <th>Days</th>\n",
              "      <th>MOMOS</th>\n",
              "      <th>CHOWMIN</th>\n",
              "      <th>SPRING-ROLL</th>\n",
              "      <th>EGG ROLL</th>\n",
              "      <th>COFFEE</th>\n",
              "    </tr>\n",
              "  </thead>\n",
              "  <tbody>\n",
              "    <tr>\n",
              "      <th>0</th>\n",
              "      <td>Mondays</td>\n",
              "      <td>500</td>\n",
              "      <td>300</td>\n",
              "      <td>200</td>\n",
              "      <td>800</td>\n",
              "      <td>700</td>\n",
              "    </tr>\n",
              "    <tr>\n",
              "      <th>1</th>\n",
              "      <td>Tuesday</td>\n",
              "      <td>300</td>\n",
              "      <td>400</td>\n",
              "      <td>300</td>\n",
              "      <td>700</td>\n",
              "      <td>400</td>\n",
              "    </tr>\n",
              "    <tr>\n",
              "      <th>2</th>\n",
              "      <td>Wednesday</td>\n",
              "      <td>400</td>\n",
              "      <td>500</td>\n",
              "      <td>400</td>\n",
              "      <td>600</td>\n",
              "      <td>200</td>\n",
              "    </tr>\n",
              "    <tr>\n",
              "      <th>3</th>\n",
              "      <td>Thrusday</td>\n",
              "      <td>600</td>\n",
              "      <td>700</td>\n",
              "      <td>500</td>\n",
              "      <td>500</td>\n",
              "      <td>500</td>\n",
              "    </tr>\n",
              "    <tr>\n",
              "      <th>4</th>\n",
              "      <td>Friday</td>\n",
              "      <td>700</td>\n",
              "      <td>600</td>\n",
              "      <td>600</td>\n",
              "      <td>400</td>\n",
              "      <td>300</td>\n",
              "    </tr>\n",
              "    <tr>\n",
              "      <th>5</th>\n",
              "      <td>Saturday</td>\n",
              "      <td>200</td>\n",
              "      <td>200</td>\n",
              "      <td>700</td>\n",
              "      <td>300</td>\n",
              "      <td>600</td>\n",
              "    </tr>\n",
              "    <tr>\n",
              "      <th>6</th>\n",
              "      <td>Sunday</td>\n",
              "      <td>800</td>\n",
              "      <td>800</td>\n",
              "      <td>800</td>\n",
              "      <td>200</td>\n",
              "      <td>700</td>\n",
              "    </tr>\n",
              "  </tbody>\n",
              "</table>\n",
              "</div>\n",
              "      <button class=\"colab-df-convert\" onclick=\"convertToInteractive('df-3db142f9-e897-44f8-979d-fc62f5b7ba53')\"\n",
              "              title=\"Convert this dataframe to an interactive table.\"\n",
              "              style=\"display:none;\">\n",
              "        \n",
              "  <svg xmlns=\"http://www.w3.org/2000/svg\" height=\"24px\"viewBox=\"0 0 24 24\"\n",
              "       width=\"24px\">\n",
              "    <path d=\"M0 0h24v24H0V0z\" fill=\"none\"/>\n",
              "    <path d=\"M18.56 5.44l.94 2.06.94-2.06 2.06-.94-2.06-.94-.94-2.06-.94 2.06-2.06.94zm-11 1L8.5 8.5l.94-2.06 2.06-.94-2.06-.94L8.5 2.5l-.94 2.06-2.06.94zm10 10l.94 2.06.94-2.06 2.06-.94-2.06-.94-.94-2.06-.94 2.06-2.06.94z\"/><path d=\"M17.41 7.96l-1.37-1.37c-.4-.4-.92-.59-1.43-.59-.52 0-1.04.2-1.43.59L10.3 9.45l-7.72 7.72c-.78.78-.78 2.05 0 2.83L4 21.41c.39.39.9.59 1.41.59.51 0 1.02-.2 1.41-.59l7.78-7.78 2.81-2.81c.8-.78.8-2.07 0-2.86zM5.41 20L4 18.59l7.72-7.72 1.47 1.35L5.41 20z\"/>\n",
              "  </svg>\n",
              "      </button>\n",
              "      \n",
              "  <style>\n",
              "    .colab-df-container {\n",
              "      display:flex;\n",
              "      flex-wrap:wrap;\n",
              "      gap: 12px;\n",
              "    }\n",
              "\n",
              "    .colab-df-convert {\n",
              "      background-color: #E8F0FE;\n",
              "      border: none;\n",
              "      border-radius: 50%;\n",
              "      cursor: pointer;\n",
              "      display: none;\n",
              "      fill: #1967D2;\n",
              "      height: 32px;\n",
              "      padding: 0 0 0 0;\n",
              "      width: 32px;\n",
              "    }\n",
              "\n",
              "    .colab-df-convert:hover {\n",
              "      background-color: #E2EBFA;\n",
              "      box-shadow: 0px 1px 2px rgba(60, 64, 67, 0.3), 0px 1px 3px 1px rgba(60, 64, 67, 0.15);\n",
              "      fill: #174EA6;\n",
              "    }\n",
              "\n",
              "    [theme=dark] .colab-df-convert {\n",
              "      background-color: #3B4455;\n",
              "      fill: #D2E3FC;\n",
              "    }\n",
              "\n",
              "    [theme=dark] .colab-df-convert:hover {\n",
              "      background-color: #434B5C;\n",
              "      box-shadow: 0px 1px 3px 1px rgba(0, 0, 0, 0.15);\n",
              "      filter: drop-shadow(0px 1px 2px rgba(0, 0, 0, 0.3));\n",
              "      fill: #FFFFFF;\n",
              "    }\n",
              "  </style>\n",
              "\n",
              "      <script>\n",
              "        const buttonEl =\n",
              "          document.querySelector('#df-3db142f9-e897-44f8-979d-fc62f5b7ba53 button.colab-df-convert');\n",
              "        buttonEl.style.display =\n",
              "          google.colab.kernel.accessAllowed ? 'block' : 'none';\n",
              "\n",
              "        async function convertToInteractive(key) {\n",
              "          const element = document.querySelector('#df-3db142f9-e897-44f8-979d-fc62f5b7ba53');\n",
              "          const dataTable =\n",
              "            await google.colab.kernel.invokeFunction('convertToInteractive',\n",
              "                                                     [key], {});\n",
              "          if (!dataTable) return;\n",
              "\n",
              "          const docLinkHtml = 'Like what you see? Visit the ' +\n",
              "            '<a target=\"_blank\" href=https://colab.research.google.com/notebooks/data_table.ipynb>data table notebook</a>'\n",
              "            + ' to learn more about interactive tables.';\n",
              "          element.innerHTML = '';\n",
              "          dataTable['output_type'] = 'display_data';\n",
              "          await google.colab.output.renderOutput(dataTable, element);\n",
              "          const docLink = document.createElement('div');\n",
              "          docLink.innerHTML = docLinkHtml;\n",
              "          element.appendChild(docLink);\n",
              "        }\n",
              "      </script>\n",
              "    </div>\n",
              "  </div>\n",
              "  "
            ]
          },
          "metadata": {},
          "execution_count": 23
        }
      ]
    },
    {
      "cell_type": "code",
      "source": [
        "#pandas writing files\n",
        "import csv\n",
        "with open(\"WEEKLY REPORT.csv\",'w',newline='') as file:\n",
        "  writer = csv.writer(file)\n",
        "  writer.writerow(\"March Day\")\n",
        "  print()"
      ],
      "metadata": {
        "colab": {
          "base_uri": "https://localhost:8080/"
        },
        "id": "BLSsxSrRFnMR",
        "outputId": "cdd025a8-4ede-4c2e-f001-eb1d3eaa0ab3"
      },
      "execution_count": 29,
      "outputs": [
        {
          "output_type": "stream",
          "name": "stdout",
          "text": [
            "\n"
          ]
        }
      ]
    },
    {
      "cell_type": "code",
      "source": [
        "import csv\n",
        "with open(\"WEEKLY REPORT.csv\",'a',newline='') as file:\n",
        "  writer = csv.writer(file)\n",
        "  writer.writerow([\"March Day\",1000,200,300,500,800])"
      ],
      "metadata": {
        "id": "cDDlFLnjhnGq"
      },
      "execution_count": 21,
      "outputs": []
    },
    {
      "cell_type": "code",
      "source": [
        "#panda writing csv files\n",
        "import csv\n",
        "with open('WEEKLY REPORT.csv','a') as file:\n",
        "  writer = csv.writer(file)\n",
        "  writer.writerow([\"Chrismas Day\",1000,1200,400,600,800])"
      ],
      "metadata": {
        "id": "Pz2yT6kEmD7L"
      },
      "execution_count": 26,
      "outputs": []
    },
    {
      "cell_type": "code",
      "source": [
        "from google.colab import files\n",
        "uploaded = files.upload()"
      ],
      "metadata": {
        "id": "DapGmyhvvP3x",
        "outputId": "9f7c6e9e-6382-4d63-f478-95913a2b57b8",
        "colab": {
          "base_uri": "https://localhost:8080/",
          "height": 73
        }
      },
      "execution_count": 33,
      "outputs": [
        {
          "output_type": "display_data",
          "data": {
            "text/plain": [
              "<IPython.core.display.HTML object>"
            ],
            "text/html": [
              "\n",
              "     <input type=\"file\" id=\"files-b3d1f50d-46f1-4ef2-a538-aa76ed04d7d8\" name=\"files[]\" multiple disabled\n",
              "        style=\"border:none\" />\n",
              "     <output id=\"result-b3d1f50d-46f1-4ef2-a538-aa76ed04d7d8\">\n",
              "      Upload widget is only available when the cell has been executed in the\n",
              "      current browser session. Please rerun this cell to enable.\n",
              "      </output>\n",
              "      <script>// Copyright 2017 Google LLC\n",
              "//\n",
              "// Licensed under the Apache License, Version 2.0 (the \"License\");\n",
              "// you may not use this file except in compliance with the License.\n",
              "// You may obtain a copy of the License at\n",
              "//\n",
              "//      http://www.apache.org/licenses/LICENSE-2.0\n",
              "//\n",
              "// Unless required by applicable law or agreed to in writing, software\n",
              "// distributed under the License is distributed on an \"AS IS\" BASIS,\n",
              "// WITHOUT WARRANTIES OR CONDITIONS OF ANY KIND, either express or implied.\n",
              "// See the License for the specific language governing permissions and\n",
              "// limitations under the License.\n",
              "\n",
              "/**\n",
              " * @fileoverview Helpers for google.colab Python module.\n",
              " */\n",
              "(function(scope) {\n",
              "function span(text, styleAttributes = {}) {\n",
              "  const element = document.createElement('span');\n",
              "  element.textContent = text;\n",
              "  for (const key of Object.keys(styleAttributes)) {\n",
              "    element.style[key] = styleAttributes[key];\n",
              "  }\n",
              "  return element;\n",
              "}\n",
              "\n",
              "// Max number of bytes which will be uploaded at a time.\n",
              "const MAX_PAYLOAD_SIZE = 100 * 1024;\n",
              "\n",
              "function _uploadFiles(inputId, outputId) {\n",
              "  const steps = uploadFilesStep(inputId, outputId);\n",
              "  const outputElement = document.getElementById(outputId);\n",
              "  // Cache steps on the outputElement to make it available for the next call\n",
              "  // to uploadFilesContinue from Python.\n",
              "  outputElement.steps = steps;\n",
              "\n",
              "  return _uploadFilesContinue(outputId);\n",
              "}\n",
              "\n",
              "// This is roughly an async generator (not supported in the browser yet),\n",
              "// where there are multiple asynchronous steps and the Python side is going\n",
              "// to poll for completion of each step.\n",
              "// This uses a Promise to block the python side on completion of each step,\n",
              "// then passes the result of the previous step as the input to the next step.\n",
              "function _uploadFilesContinue(outputId) {\n",
              "  const outputElement = document.getElementById(outputId);\n",
              "  const steps = outputElement.steps;\n",
              "\n",
              "  const next = steps.next(outputElement.lastPromiseValue);\n",
              "  return Promise.resolve(next.value.promise).then((value) => {\n",
              "    // Cache the last promise value to make it available to the next\n",
              "    // step of the generator.\n",
              "    outputElement.lastPromiseValue = value;\n",
              "    return next.value.response;\n",
              "  });\n",
              "}\n",
              "\n",
              "/**\n",
              " * Generator function which is called between each async step of the upload\n",
              " * process.\n",
              " * @param {string} inputId Element ID of the input file picker element.\n",
              " * @param {string} outputId Element ID of the output display.\n",
              " * @return {!Iterable<!Object>} Iterable of next steps.\n",
              " */\n",
              "function* uploadFilesStep(inputId, outputId) {\n",
              "  const inputElement = document.getElementById(inputId);\n",
              "  inputElement.disabled = false;\n",
              "\n",
              "  const outputElement = document.getElementById(outputId);\n",
              "  outputElement.innerHTML = '';\n",
              "\n",
              "  const pickedPromise = new Promise((resolve) => {\n",
              "    inputElement.addEventListener('change', (e) => {\n",
              "      resolve(e.target.files);\n",
              "    });\n",
              "  });\n",
              "\n",
              "  const cancel = document.createElement('button');\n",
              "  inputElement.parentElement.appendChild(cancel);\n",
              "  cancel.textContent = 'Cancel upload';\n",
              "  const cancelPromise = new Promise((resolve) => {\n",
              "    cancel.onclick = () => {\n",
              "      resolve(null);\n",
              "    };\n",
              "  });\n",
              "\n",
              "  // Wait for the user to pick the files.\n",
              "  const files = yield {\n",
              "    promise: Promise.race([pickedPromise, cancelPromise]),\n",
              "    response: {\n",
              "      action: 'starting',\n",
              "    }\n",
              "  };\n",
              "\n",
              "  cancel.remove();\n",
              "\n",
              "  // Disable the input element since further picks are not allowed.\n",
              "  inputElement.disabled = true;\n",
              "\n",
              "  if (!files) {\n",
              "    return {\n",
              "      response: {\n",
              "        action: 'complete',\n",
              "      }\n",
              "    };\n",
              "  }\n",
              "\n",
              "  for (const file of files) {\n",
              "    const li = document.createElement('li');\n",
              "    li.append(span(file.name, {fontWeight: 'bold'}));\n",
              "    li.append(span(\n",
              "        `(${file.type || 'n/a'}) - ${file.size} bytes, ` +\n",
              "        `last modified: ${\n",
              "            file.lastModifiedDate ? file.lastModifiedDate.toLocaleDateString() :\n",
              "                                    'n/a'} - `));\n",
              "    const percent = span('0% done');\n",
              "    li.appendChild(percent);\n",
              "\n",
              "    outputElement.appendChild(li);\n",
              "\n",
              "    const fileDataPromise = new Promise((resolve) => {\n",
              "      const reader = new FileReader();\n",
              "      reader.onload = (e) => {\n",
              "        resolve(e.target.result);\n",
              "      };\n",
              "      reader.readAsArrayBuffer(file);\n",
              "    });\n",
              "    // Wait for the data to be ready.\n",
              "    let fileData = yield {\n",
              "      promise: fileDataPromise,\n",
              "      response: {\n",
              "        action: 'continue',\n",
              "      }\n",
              "    };\n",
              "\n",
              "    // Use a chunked sending to avoid message size limits. See b/62115660.\n",
              "    let position = 0;\n",
              "    do {\n",
              "      const length = Math.min(fileData.byteLength - position, MAX_PAYLOAD_SIZE);\n",
              "      const chunk = new Uint8Array(fileData, position, length);\n",
              "      position += length;\n",
              "\n",
              "      const base64 = btoa(String.fromCharCode.apply(null, chunk));\n",
              "      yield {\n",
              "        response: {\n",
              "          action: 'append',\n",
              "          file: file.name,\n",
              "          data: base64,\n",
              "        },\n",
              "      };\n",
              "\n",
              "      let percentDone = fileData.byteLength === 0 ?\n",
              "          100 :\n",
              "          Math.round((position / fileData.byteLength) * 100);\n",
              "      percent.textContent = `${percentDone}% done`;\n",
              "\n",
              "    } while (position < fileData.byteLength);\n",
              "  }\n",
              "\n",
              "  // All done.\n",
              "  yield {\n",
              "    response: {\n",
              "      action: 'complete',\n",
              "    }\n",
              "  };\n",
              "}\n",
              "\n",
              "scope.google = scope.google || {};\n",
              "scope.google.colab = scope.google.colab || {};\n",
              "scope.google.colab._files = {\n",
              "  _uploadFiles,\n",
              "  _uploadFilesContinue,\n",
              "};\n",
              "})(self);\n",
              "</script> "
            ]
          },
          "metadata": {}
        },
        {
          "output_type": "stream",
          "name": "stdout",
          "text": [
            "Saving HotelWeeklyReport.csv to HotelWeeklyReport.csv\n"
          ]
        }
      ]
    },
    {
      "cell_type": "code",
      "source": [
        "import pandas as pd\n",
        "hotel = pd.read_csv(\"WEEKLY REPORT.csv\")\n",
        "print(hotel)"
      ],
      "metadata": {
        "id": "zwaPEq_auPsi",
        "outputId": "fc0cde72-7e2c-4cfe-e03a-9894c5b99ec4",
        "colab": {
          "base_uri": "https://localhost:8080/"
        }
      },
      "execution_count": 28,
      "outputs": [
        {
          "output_type": "stream",
          "name": "stdout",
          "text": [
            "Empty DataFrame\n",
            "Columns: [Chrismas Day, 1000, 1200, 400, 600, 800]\n",
            "Index: []\n"
          ]
        }
      ]
    },
    {
      "cell_type": "code",
      "source": [
        "# Pandas Analyzing data using plotting\n",
        "import pandas as pd\n",
        "import matplotlib.pyplot as plt\n",
        "plot_sales = pd.read_csv(\"HotelWeeklyReport.csv\")\n",
        "print(plot_sales)\n",
        "/#print(\"this is the raw weekly report\")\n",
        "#print(plot_sales)\n",
        "#print(\"This is the graph of your weekly analysis\")\n",
        "plot_sales.plot()\n",
        "plt.show()"
      ],
      "metadata": {
        "id": "tllYH8EIpa7_",
        "outputId": "0edc9a19-88ad-487d-dcd4-147514f7431f",
        "colab": {
          "base_uri": "https://localhost:8080/",
          "height": 404
        }
      },
      "execution_count": 34,
      "outputs": [
        {
          "output_type": "stream",
          "name": "stdout",
          "text": [
            "        Days  Momos  Chowmin  Spring Roll  Egg Roll  Coffee\n",
            "0     Monday   1000      600          400       800    1200\n",
            "1    Tuesday   1500      500          700      1000     800\n",
            "2  Wednesday    500     1000         2000      1000     800\n",
            "3   Thursday    800     1000         1200       900    1300\n",
            "4     Friday   1000     1200         1300      1400    1500\n",
            "5   Saturday   1001     1002         1003      1004    1005\n",
            "6     Sunday    995      996          997       998     999\n"
          ]
        },
        {
          "output_type": "display_data",
          "data": {
            "text/plain": [
              "<Figure size 432x288 with 1 Axes>"
            ],
            "image/png": "[encoded data removed]"
          },
          "metadata": {
            "needs_background": "light"
          }
        }
      ]
    }
  ]
}