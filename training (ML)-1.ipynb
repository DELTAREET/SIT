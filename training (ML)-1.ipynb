{
  "nbformat": 4,
  "nbformat_minor": 0,
  "metadata": {
    "colab": {
      "provenance": [],
      "toc_visible": true,
      "authorship_tag": "ABX9TyOU6R3XYxGmHPzYny9N9nUE",
      "include_colab_link": true
    },
    "kernelspec": {
      "name": "python3",
      "display_name": "Python 3"
    },
    "language_info": {
      "name": "python"
    }
  },
  "cells": [
    {
      "cell_type": "markdown",
      "metadata": {
        "id": "view-in-github",
        "colab_type": "text"
      },
      "source": [
        "<a href=\"https://colab.research.google.com/github/DELTAREET/SIT/blob/main/training%20(ML)-1.ipynb\" target=\"_parent\"><img src=\"https://colab.research.google.com/assets/colab-badge.svg\" alt=\"Open In Colab\"/></a>"
      ]
    },
    {
      "cell_type": "code",
      "execution_count": 5,
      "metadata": {
        "colab": {
          "base_uri": "https://localhost:8080/"
        },
        "id": "itdi1DMtf3ZM",
        "outputId": "d8fb94f1-ee9b-4876-9e2c-7a52e4b8bbca"
      },
      "outputs": [
        {
          "output_type": "stream",
          "name": "stdout",
          "text": [
            "This is my 0-d array\n",
            "100\n",
            "The dimension of this array is  0\n"
          ]
        }
      ],
      "source": [
        "## Numpy\n",
        "\n",
        "\n",
        "# creating 0-d array using numpy\n",
        "import numpy as np\n",
        "zeroDimensionArray = np.array(100)\n",
        "print(\"This is my 0-d array\")\n",
        "print(zeroDimensionArray)\n",
        "print(\"The dimension of this array is \",zeroDimensionArray.ndim)\n"
      ]
    },
    {
      "cell_type": "code",
      "source": [
        "# creating 1-d array\n",
        "import numpy as np\n",
        "oneDimensionArray = np.array([1,2,3,4,5])\n",
        "print(\"This is mmy 1-d array\")\n",
        "print(oneDimensionArray)\n",
        "print(\"The dimension of this array is \",oneDimensionArray.ndim)\n",
        "print(\"The first element present in this array \",oneDimensionArray[0])\n",
        "print(\"The third element present in this array \",oneDimensionArray[2])\n",
        "print(\"The sum of the element present inthe 2nd and 3rd index is \",oneDimensionArray[2] + oneDimensionArray[3])"
      ],
      "metadata": {
        "colab": {
          "base_uri": "https://localhost:8080/"
        },
        "id": "W0IAXWTkgzNL",
        "outputId": "a4b06cce-9062-4bec-e8f8-8315c8f936bc"
      },
      "execution_count": 12,
      "outputs": [
        {
          "output_type": "stream",
          "name": "stdout",
          "text": [
            "This is mmy 1-d array\n",
            "[1 2 3 4 5]\n",
            "The dimension of this array is  1\n",
            "The first element present in this array  1\n",
            "The third element present in this array  3\n",
            "The sum of the element present inthe 2nd and 3rd index is  7\n"
          ]
        }
      ]
    },
    {
      "cell_type": "code",
      "source": [
        "# creating 2-d array\n",
        "import numpy as np\n",
        "twoDimensionArray = np.array([[1,2,3,4,5],[6,7,8,9,10]])\n",
        "print(\"This is my 2-d array\")\n",
        "print(twoDimensionArray)\n",
        "print(\"The dimension of this array is \",twoDimensionArray.ndim)\n",
        "print(\"Displaying 1st row : \",twoDimensionArray[0])\n",
        "print(\"Displaying 2nd row : \",twoDimensionArray[1])\n",
        "print(\"Displaying 1st element of the first row \",twoDimensionArray[0,0])\n",
        "print(\"Displaying 3rd element of the second row \",twoDimensionArray[1,3])\n",
        "print(\"The sum of the element present in the first row 2nd index and second row 3rd index is \",twoDimensionArray[0,4] + twoDimensionArray[1,3])\n"
      ],
      "metadata": {
        "colab": {
          "base_uri": "https://localhost:8080/"
        },
        "id": "iRErllNAhMY3",
        "outputId": "ad520517-6188-40e0-aad7-aa52f1448825"
      },
      "execution_count": 17,
      "outputs": [
        {
          "output_type": "stream",
          "name": "stdout",
          "text": [
            "This is my 2-d array\n",
            "[[ 1  2  3  4  5]\n",
            " [ 6  7  8  9 10]]\n",
            "The dimension of this array is  2\n",
            "Displaying 1st row :  [1 2 3 4 5]\n",
            "Displaying 2nd row :  [ 6  7  8  9 10]\n",
            "Displaying 1st element of the first row  1\n",
            "Displaying 3rd element of the second row  9\n",
            "The sum of the element present in the first row 2nd index and second row 3rd index is  14\n"
          ]
        }
      ]
    },
    {
      "cell_type": "markdown",
      "source": [],
      "metadata": {
        "id": "3hwuVGTytrga"
      }
    },
    {
      "cell_type": "code",
      "source": [],
      "metadata": {
        "id": "FfrvjSSwtsY0"
      },
      "execution_count": null,
      "outputs": []
    },
    {
      "cell_type": "code",
      "source": [
        "#creating 3-d Array\n",
        "import numpy as np\n",
        "threeDimensionArray = np.array([[[1,2,3,4,5],[6,7,8,9,10],[11,12,13,14,15]]])\n",
        "print(\"This is my 3-d array\")\n",
        "print(threeDimensionArray)\n",
        "print(\"The dimension of this array is \",threeDimensionArray.ndim)\n",
        "print(\"Displaying the first row of this array \",threeDimensionArray[0,0])\n",
        "print(\"Displaying the third row of this array \",threeDimensionArray[0,2])\n",
        "print(\"Displaying seacond element of the third row \",threeDimensionArray[0,2,1])\n",
        "\n"
      ],
      "metadata": {
        "colab": {
          "base_uri": "https://localhost:8080/"
        },
        "id": "0q9ImIqyiDT1",
        "outputId": "af724f3a-dd05-458e-9f7f-c492dd3aaee4"
      },
      "execution_count": 18,
      "outputs": [
        {
          "output_type": "stream",
          "name": "stdout",
          "text": [
            "This is my 3-d array\n",
            "[[[ 1  2  3  4  5]\n",
            "  [ 6  7  8  9 10]\n",
            "  [11 12 13 14 15]]]\n",
            "The dimension of this array is  3\n",
            "Displaying the first row of this array  [1 2 3 4 5]\n",
            "Displaying the third row of this array  [11 12 13 14 15]\n",
            "Displaying seacond element of the third row  12\n"
          ]
        }
      ]
    },
    {
      "cell_type": "code",
      "source": [
        "# Array Slicing\n",
        "import numpy as np\n",
        "oneDimensionArray = np.array([1,2,3,4,5,6,7,8,9,10])\n",
        "print(\"This is mmy 1-d array\")\n",
        "print(\"your array is : \")\n",
        "print(oneDimensionArray)\n",
        "print(\"The dimension of this array is \",oneDimensionArray.ndim)\n",
        "print(\"The dimension of this array is : \",oneDimensionArray)\n",
        "print(\"Displaying element from 3rd to 6th index \",oneDimensionArray[3:7])\n",
        "print(\"Displaying element after 5th element of this array \",oneDimensionArray[5:])\n",
        "print(\"Displaying element before 5th element of this array \",oneDimensionArray[:5])\n",
        "\n"
      ],
      "metadata": {
        "colab": {
          "base_uri": "https://localhost:8080/"
        },
        "id": "Odby4Cq4yOmG",
        "outputId": "19686bde-e934-429c-9e78-202da9f1e629"
      },
      "execution_count": 26,
      "outputs": [
        {
          "output_type": "stream",
          "name": "stdout",
          "text": [
            "This is mmy 1-d array\n",
            "your array is : \n",
            "[ 1  2  3  4  5  6  7  8  9 10]\n",
            "The dimension of this array is  1\n",
            "The dimension of this array is :  [ 1  2  3  4  5  6  7  8  9 10]\n",
            "Displaying element from 3rd to 6th index  [4 5 6 7]\n",
            "Displaying element after 5th element of this array  [ 6  7  8  9 10]\n",
            "Displaying element before 5th element of this array  [1 2 3 4 5]\n"
          ]
        }
      ]
    },
    {
      "cell_type": "code",
      "source": [
        "#copy and view\n",
        "import numpy as np\n",
        "OriginalArray = np.array([1,2,3,4])\n",
        "CopiedArray = OriginalArray.copy()\n",
        "print(\"Original Array : \", OriginalArray)\n",
        "OriginalArray[2] = 100\n",
        "print(\"Original Array : \",OriginalArray)\n",
        "CopiedArray[0] = 600\n",
        "print(\"Copied Array : \", CopiedArray)"
      ],
      "metadata": {
        "colab": {
          "base_uri": "https://localhost:8080/"
        },
        "id": "9jJF49FSM8Nm",
        "outputId": "d56c8a75-b9e0-4af2-8fb8-886adbc38e84"
      },
      "execution_count": 5,
      "outputs": [
        {
          "output_type": "stream",
          "name": "stdout",
          "text": [
            "Original Array :  [1 2 3 4]\n",
            "Original Array :  [  1   2 100   4]\n",
            "Copied Array :  [600   2   3   4]\n"
          ]
        }
      ]
    },
    {
      "cell_type": "code",
      "source": [
        "#copy and view\n",
        "import numpy as np\n",
        "OriginalArray = np.array([1,2,3,4])\n",
        "CopiedArray = OriginalArray.view()\n",
        "print(\"This is the Original Array : \",OriginalArray)\n",
        "print(\"Changes Applying to original array : \")\n",
        "OriginalArray[2] = 121\n",
        "print(\"this is the Original Array : \",OriginalArray)\n",
        "print(\"This is the Copied Array : \", CopiedArray)"
      ],
      "metadata": {
        "colab": {
          "base_uri": "https://localhost:8080/"
        },
        "id": "LOK5_HLIPyFY",
        "outputId": "a902a294-9410-494a-94a9-766538d04e95"
      },
      "execution_count": 4,
      "outputs": [
        {
          "output_type": "stream",
          "name": "stdout",
          "text": [
            "This is the Original Array :  [1 2 3 4]\n",
            "Changes Applying to original array : \n",
            "this is the Original Array :  [  1   2 121   4]\n",
            "This is the Copied Array :  [  1   2 121   4]\n"
          ]
        }
      ]
    },
    {
      "cell_type": "code",
      "source": [],
      "metadata": {
        "id": "py_7-GeFRs6Q"
      },
      "execution_count": null,
      "outputs": []
    },
    {
      "cell_type": "markdown",
      "source": [
        "# New Section 1"
      ],
      "metadata": {
        "id": "OqT4OBbRt-k9"
      }
    },
    {
      "cell_type": "code",
      "source": [
        "# creating 0-d array using numpy\n",
        "import numpy as np\n",
        "zeroDimensionArray = np.array(100)\n",
        "print(\"This is my 0-d array\")\n",
        "print(zeroDimensionArray)\n",
        "print(\"The dimension of this array is \",zeroDimensionArray.ndim)"
      ],
      "metadata": {
        "colab": {
          "base_uri": "https://localhost:8080/"
        },
        "id": "jUZcwuenuFmH",
        "outputId": "7aef5297-fc20-4580-c6a8-a8a60e959efa"
      },
      "execution_count": 1,
      "outputs": [
        {
          "output_type": "stream",
          "name": "stdout",
          "text": [
            "This is my 0-d array\n",
            "100\n",
            "The dimension of this array is  0\n"
          ]
        }
      ]
    },
    {
      "cell_type": "code",
      "source": [
        "# creating 1-d array\n",
        "import numpy as np\n",
        "oneDimensionArray = np.array([1,2,3,4,5])\n",
        "print(\"This is my 1-d array\")\n",
        "print(oneDimensionArray)\n",
        "print(\"The dimension of this array is \",oneDimensionArray.ndim)\n"
      ],
      "metadata": {
        "colab": {
          "base_uri": "https://localhost:8080/"
        },
        "id": "qg8RPlA7udOo",
        "outputId": "36866542-5839-4ce0-8db4-8000773da1b9"
      },
      "execution_count": 5,
      "outputs": [
        {
          "output_type": "stream",
          "name": "stdout",
          "text": [
            "This is my 1-d array\n",
            "[1 2 3 4 5]\n",
            "The dimension of this array is  1\n"
          ]
        }
      ]
    },
    {
      "cell_type": "code",
      "source": [
        "# creating 6-d array\n",
        "import numpy as np\n",
        "sixDimensionArray = np.array([[[[[[1,2,3],[4,5,6],[7,8,9],[10,11,12],[13,14,15],[16,17,18]]]]]])\n",
        "print(\"This is my 6-d array\")\n",
        "print(sixDimensionArray)\n",
        "print(\"This dimension of this array is \",sixDimensionArray.ndim)"
      ],
      "metadata": {
        "colab": {
          "base_uri": "https://localhost:8080/"
        },
        "id": "YbwUsrwcui2c",
        "outputId": "68e7925c-9a76-415a-e5f0-0c4b13ebabae"
      },
      "execution_count": 4,
      "outputs": [
        {
          "output_type": "stream",
          "name": "stdout",
          "text": [
            "This is my 6-d array\n",
            "[[[[[[ 1  2  3]\n",
            "     [ 4  5  6]\n",
            "     [ 7  8  9]\n",
            "     [10 11 12]\n",
            "     [13 14 15]\n",
            "     [16 17 18]]]]]]\n",
            "This dimension of this array is  6\n"
          ]
        }
      ]
    },
    {
      "cell_type": "code",
      "source": [
        "# creating 1-d array\n",
        "import numpy as np\n",
        "oneDimensionArray = np.array([1,2,3,4,5])\n",
        "print(\"This is my 1-d array\")\n",
        "print(oneDimensionArray)\n",
        "print(\"The dimension of this array is \",oneDimensionArray.ndim)\n",
        "\n",
        "print(\"The sum of the element present in the second and fourth index is \",oneDimensionArray[1] + oneDimensionArray[3])"
      ],
      "metadata": {
        "colab": {
          "base_uri": "https://localhost:8080/"
        },
        "id": "XlcCcqEMw-s2",
        "outputId": "85b4df97-11aa-43b5-c8ed-22b814fe6174"
      },
      "execution_count": 7,
      "outputs": [
        {
          "output_type": "stream",
          "name": "stdout",
          "text": [
            "This is my 1-d array\n",
            "[1 2 3 4 5]\n",
            "The dimension of this array is  1\n",
            "The sum of the element present in the second and fourth index is  6\n"
          ]
        }
      ]
    },
    {
      "cell_type": "code",
      "source": [
        "# creating 2-d array\n",
        "import numpy as np\n",
        "twoDimensionArray = np.array([[1,2,3,4,5],[6,7,8,9,10]])\n",
        "print(\"This is my 2-d array\")\n",
        "print(twoDimensionArray)\n",
        "print(\"Displaying 3rd element of the first row \",twoDimensionArray[0,2])\n",
        "print(\"Displaying 2nd element of the second row \",twoDimensionArray[1,1])"
      ],
      "metadata": {
        "colab": {
          "base_uri": "https://localhost:8080/"
        },
        "id": "pcfsbL-_yNaH",
        "outputId": "e781e55c-1a85-406d-db82-28e7555df30d"
      },
      "execution_count": 8,
      "outputs": [
        {
          "output_type": "stream",
          "name": "stdout",
          "text": [
            "This is my 2-d array\n",
            "[[ 1  2  3  4  5]\n",
            " [ 6  7  8  9 10]]\n",
            "Displaying 3rd element of the first row  3\n",
            "Displaying 2nd element of the second row  7\n"
          ]
        }
      ]
    },
    {
      "cell_type": "code",
      "source": [
        "#creating 3-d Array\n",
        "import numpy as np\n",
        "threeDimensionArray = np.array([[[1,2,3,],[4,5,6],[7,8,9]]])\n",
        "print(threeDimensionArray)\n",
        "print(\"the sum of the 3rd element of the 1st row & 3rd elementof the 2nd row & 3rd element of 3rd row:\",threeDimensionArray[0,0,2]+threeDimensionArray[0,1,2]+threeDimensionArray[0,2,2])"
      ],
      "metadata": {
        "colab": {
          "base_uri": "https://localhost:8080/"
        },
        "id": "6uup-tlYzv8X",
        "outputId": "cbcc9eb4-eacf-484a-90e4-b04cdaf13bee"
      },
      "execution_count": 14,
      "outputs": [
        {
          "output_type": "stream",
          "name": "stdout",
          "text": [
            "[[[1 2 3]\n",
            "  [4 5 6]\n",
            "  [7 8 9]]]\n",
            "the sum of the 3rd element of the 1st row & 3rd elementof the 2nd row & 3rd element of 3rd row: 18\n"
          ]
        }
      ]
    },
    {
      "cell_type": "code",
      "source": [
        "#creating 2-d array\n",
        "\n",
        "import numpy as np\n",
        "twoDimensionArray = np.array([[1,2,3,4,5],[6,7,8,9,10]])\n",
        "print(\"This is my 2-d array\")\n",
        "print(twoDimensionArray*2)"
      ],
      "metadata": {
        "colab": {
          "base_uri": "https://localhost:8080/"
        },
        "id": "c6FsDLgW7JXu",
        "outputId": "4f1e3f55-13f8-4c91-9469-c6c9124a05af"
      },
      "execution_count": 15,
      "outputs": [
        {
          "output_type": "stream",
          "name": "stdout",
          "text": [
            "This is my 2-d array\n",
            "[[ 2  4  6  8 10]\n",
            " [12 14 16 18 20]]\n"
          ]
        }
      ]
    },
    {
      "cell_type": "code",
      "source": [
        "# Array slicing\n",
        "\n",
        "import numpy as np\n",
        "oneDimensionArray = np.array([28,55,67,89,100,125,532])\n",
        "\n",
        "print(\"Your array is :\")\n",
        "print(oneDimensionArray)\n",
        "print(\"The dimension of this array is :\",oneDimensionArray.ndim)\n",
        "print(\"displaying element from 2nd to the index\",oneDimensionArray[2:5])\n",
        "print(\"displaying all element after 5th element of this array\",oneDimensionArray[2:])\n",
        "print(\"displaying all element before 5th element of this array\",oneDimensionArray[:5])"
      ],
      "metadata": {
        "colab": {
          "base_uri": "https://localhost:8080/"
        },
        "id": "tbGcCDp27afO",
        "outputId": "e33d31dd-d59f-47bf-8971-8830a99d1a49"
      },
      "execution_count": 17,
      "outputs": [
        {
          "output_type": "stream",
          "name": "stdout",
          "text": [
            "Your array is :\n",
            "[ 28  55  67  89 100 125 532]\n",
            "The dimension of this array is : 1\n",
            "displaying element from 2nd to the index [ 67  89 100]\n",
            "displaying all element after 5th element of this array [ 67  89 100 125 532]\n",
            "displaying all element before 5th element of this array [ 28  55  67  89 100]\n"
          ]
        }
      ]
    },
    {
      "cell_type": "code",
      "source": [
        "#creating 2-d array\n",
        "\n",
        "import numpy as np\n",
        "twoDimensionArray = np.array([[1,2,3,4,5,6,7,8],[9,10,11,12,13,14,15,16]])\n",
        "print(\"This is my 2-d array\")\n",
        "print(twoDimensionArray)\n",
        "print(\"The dimension of this array is :\",twoDimensionArray.ndim)\n",
        "print(\"displaying element from 3rd to 6th index\",twoDimensionArray[0,3:7])\n",
        "print(\"displaying all element after 5th element of this array\",twoDimensionArray[1,:5])"
      ],
      "metadata": {
        "colab": {
          "base_uri": "https://localhost:8080/"
        },
        "id": "gG9HFXVl7jcN",
        "outputId": "417b16ce-c9e0-4569-976e-f1e6b9e0955d"
      },
      "execution_count": 18,
      "outputs": [
        {
          "output_type": "stream",
          "name": "stdout",
          "text": [
            "This is my 2-d array\n",
            "[[ 1  2  3  4  5  6  7  8]\n",
            " [ 9 10 11 12 13 14 15 16]]\n",
            "The dimension of this array is : 2\n",
            "displaying element from 3rd to 6th index [3 4 5 6]\n",
            "displaying all element after 5th element of this array [ 9 10 11 12 13]\n"
          ]
        }
      ]
    },
    {
      "cell_type": "code",
      "source": [
        "import numpy as np\n",
        "realArray = np.array([10,9,8,7,6])\n",
        "duplicateArray = realArray.copy()\n",
        "print(\"This is the real Array:\",realArray)\n",
        "print(\"This is the duplicate Array:\",duplicateArray)\n",
        "duplicateArray[2] = 12\n",
        "print(\"This is the real Array:\",realArray)\n",
        "print(\"This is the duplicate Array:\",duplicateArray)"
      ],
      "metadata": {
        "colab": {
          "base_uri": "https://localhost:8080/"
        },
        "id": "qV3I_TJV7981",
        "outputId": "12bd95e0-f515-42b0-89e3-a37f27d53d86"
      },
      "execution_count": 19,
      "outputs": [
        {
          "output_type": "stream",
          "name": "stdout",
          "text": [
            "This is the real Array: [10  9  8  7  6]\n",
            "This is the duplicate Array: [10  9  8  7  6]\n",
            "This is the real Array: [10  9  8  7  6]\n",
            "This is the duplicate Array: [10  9 12  7  6]\n"
          ]
        }
      ]
    },
    {
      "cell_type": "code",
      "source": [
        "# \n",
        "import numpy as np\n",
        "oneDimensionArray = np.array([1,2,3,4,5])\n",
        "for i in oneDimensionArray:\n",
        "  print(i)"
      ],
      "metadata": {
        "colab": {
          "base_uri": "https://localhost:8080/"
        },
        "id": "pk1HRrtO_66O",
        "outputId": "82658b51-26e7-4904-ea82-8f11b9793437"
      },
      "execution_count": 1,
      "outputs": [
        {
          "output_type": "stream",
          "name": "stdout",
          "text": [
            "1\n",
            "2\n",
            "3\n",
            "4\n",
            "5\n"
          ]
        }
      ]
    },
    {
      "cell_type": "code",
      "source": [
        "#numpy iteration for 2-d array\n",
        "import numpy as np\n",
        "twoDimensionArray = np.array([[1,2],[3,4]])\n",
        "for i in twoDimensionArray:\n",
        "    print(i)"
      ],
      "metadata": {
        "colab": {
          "base_uri": "https://localhost:8080/"
        },
        "id": "4fKGaa3xWicv",
        "outputId": "ba77bfe4-4af4-4d39-95bd-507f85dacfc4"
      },
      "execution_count": 6,
      "outputs": [
        {
          "output_type": "stream",
          "name": "stdout",
          "text": [
            "[1 2]\n",
            "[3 4]\n"
          ]
        }
      ]
    },
    {
      "cell_type": "code",
      "source": [
        "#numpy iteration for 2-d array\n",
        "import numpy as np\n",
        "twoDimensionArray = np.array([[1,2],[3,4]])\n",
        "for i in twoDimensionArray:\n",
        "  for j in i:\n",
        "    print(j)"
      ],
      "metadata": {
        "colab": {
          "base_uri": "https://localhost:8080/"
        },
        "id": "3v0837otYBcK",
        "outputId": "80f3be0f-2cad-4767-a986-d80baeeb4bb5"
      },
      "execution_count": 7,
      "outputs": [
        {
          "output_type": "stream",
          "name": "stdout",
          "text": [
            "1\n",
            "2\n",
            "3\n",
            "4\n"
          ]
        }
      ]
    },
    {
      "cell_type": "code",
      "source": [
        "#numpy iterration for 3-d array\n",
        "import numpy as np\n",
        "threeDimensionArray = np.array([[[1,2],[3,4],[5,6]]])\n",
        "for i in threeDimensionArray:\n",
        "  for j in i:\n",
        "    for k in j:\n",
        "      print(k)"
      ],
      "metadata": {
        "colab": {
          "base_uri": "https://localhost:8080/"
        },
        "id": "CWWjZqx_YOxR",
        "outputId": "410646af-d5f0-423a-8d21-650296e5ac49"
      },
      "execution_count": 8,
      "outputs": [
        {
          "output_type": "stream",
          "name": "stdout",
          "text": [
            "1\n",
            "2\n",
            "3\n",
            "4\n",
            "5\n",
            "6\n"
          ]
        }
      ]
    },
    {
      "cell_type": "code",
      "source": [
        "#numpy iterrationusing nditer() function\n",
        "import numpy as np\n",
        "threeDimensionalArray = np.array([[[1,2],[3,4],[5,6]]])\n",
        "for i in np.nditer(threeDimensionalArray):\n",
        "  print(i)"
      ],
      "metadata": {
        "colab": {
          "base_uri": "https://localhost:8080/"
        },
        "id": "hZ0Z4ghPZIj8",
        "outputId": "ad0ac271-8909-46a2-c988-2a0e096ad302"
      },
      "execution_count": 9,
      "outputs": [
        {
          "output_type": "stream",
          "name": "stdout",
          "text": [
            "1\n",
            "2\n",
            "3\n",
            "4\n",
            "5\n",
            "6\n"
          ]
        }
      ]
    },
    {
      "cell_type": "code",
      "source": [
        "# Numpy Joins (Join 1-d array) using concatenate() function\n",
        "import numpy as np\n",
        "firstArray = np.array([1,2])\n",
        "print(\"This is the first array : \",firstArray)\n",
        "secondArray = np.array([3,4])\n",
        "print(\"This is the second array : \",secondArray)\n",
        "print(\"After joining two array: \",np.concatenate((firstArray,secondArray)))"
      ],
      "metadata": {
        "colab": {
          "base_uri": "https://localhost:8080/"
        },
        "id": "oY6i-oL-a_Sq",
        "outputId": "59f58d8c-e206-4136-d707-5bcfe341640b"
      },
      "execution_count": 11,
      "outputs": [
        {
          "output_type": "stream",
          "name": "stdout",
          "text": [
            "This is the first array :  [1 2]\n",
            "This is the second array :  [3 4]\n",
            "After joining two array:  [1 2 3 4]\n"
          ]
        }
      ]
    },
    {
      "cell_type": "code",
      "source": [
        "# Numpy Joins (Join 2-d array) using concatenate() function\n",
        "import numpy as np\n",
        "firstArray = np.array([[1,2],[3,4]])\n",
        "print(\"This is the first array : \\n\",firstArray)\n",
        "secondArray = np.array([[5,6],[7,8]])\n",
        "print(\"This is the second array : \\n\",secondArray)\n",
        "print(\"After joining two array :\\n\",np.concatenate((firstArray, secondArray),axis=1))"
      ],
      "metadata": {
        "colab": {
          "base_uri": "https://localhost:8080/"
        },
        "id": "Kd2RT4Etcm4v",
        "outputId": "e8cc8976-4935-4788-fde4-5dff3e816553"
      },
      "execution_count": 13,
      "outputs": [
        {
          "output_type": "stream",
          "name": "stdout",
          "text": [
            "This is the first array : \n",
            " [[1 2]\n",
            " [3 4]]\n",
            "This is the second array : \n",
            " [[5 6]\n",
            " [7 8]]\n",
            "After joining two array :\n",
            " [[1 2 5 6]\n",
            " [3 4 7 8]]\n"
          ]
        }
      ]
    },
    {
      "cell_type": "code",
      "source": [
        "# Numpy Joins (Join 2-d array) using concatenate() function in axis = 0\n",
        "import numpy as np\n",
        "firstArray = np.array([[1,2],[3,4]])\n",
        "print(\"This is the first array : \\n\",firstArray)\n",
        "secondArray = np.array([[5,6],[7,8]])\n",
        "print(\"This is the second array : \\n\",secondArray)\n",
        "print(\"After joining two array :\\n\",np.concatenate((firstArray, secondArray),axis=0))"
      ],
      "metadata": {
        "colab": {
          "base_uri": "https://localhost:8080/"
        },
        "id": "GNHoK-q8ezv9",
        "outputId": "2cc38336-1dff-4cd3-c3bd-72f843f56bf0"
      },
      "execution_count": 14,
      "outputs": [
        {
          "output_type": "stream",
          "name": "stdout",
          "text": [
            "This is the first array : \n",
            " [[1 2]\n",
            " [3 4]]\n",
            "This is the second array : \n",
            " [[5 6]\n",
            " [7 8]]\n",
            "After joining two array :\n",
            " [[1 2]\n",
            " [3 4]\n",
            " [5 6]\n",
            " [7 8]]\n"
          ]
        }
      ]
    },
    {
      "cell_type": "code",
      "source": [
        "#numpy joins using stack() function\n",
        "import numpy as np\n",
        "firstArray =np.array([1,11,111])\n",
        "print(\"First Array = \",firstArray)\n",
        "secondArray = np.array([2,22,222])\n",
        "print(\"Second Array = \",secondArray)\n",
        "print(\"After Joining two array : \\n\",np.stack((firstArray, secondArray)))"
      ],
      "metadata": {
        "colab": {
          "base_uri": "https://localhost:8080/"
        },
        "id": "btj55p8jez2i",
        "outputId": "a05a7d18-ea84-4270-918e-9c1d7b8eaabe"
      },
      "execution_count": 17,
      "outputs": [
        {
          "output_type": "stream",
          "name": "stdout",
          "text": [
            "First Array =  [  1  11 111]\n",
            "Second Array =  [  2  22 222]\n",
            "After Joining two array : \n",
            " [[  1  11 111]\n",
            " [  2  22 222]]\n"
          ]
        }
      ]
    },
    {
      "cell_type": "code",
      "source": [
        "#numpy joins using stack() function [axis = 1]\n",
        "import numpy as np\n",
        "firstArray =np.array([1,11,111])\n",
        "print(\"First Array = \",firstArray)\n",
        "secondArray = np.array([2,22,222])\n",
        "print(\"Second Array = \",secondArray)\n",
        "print(\"After Joining two array : \\n\",np.stack((firstArray, secondArray),axis=1))"
      ],
      "metadata": {
        "colab": {
          "base_uri": "https://localhost:8080/"
        },
        "id": "54xRteicgxNX",
        "outputId": "5c3da16f-564d-4666-e09c-c77031191ee6"
      },
      "execution_count": 18,
      "outputs": [
        {
          "output_type": "stream",
          "name": "stdout",
          "text": [
            "First Array =  [  1  11 111]\n",
            "Second Array =  [  2  22 222]\n",
            "After Joining two array : \n",
            " [[  1   2]\n",
            " [ 11  22]\n",
            " [111 222]]\n"
          ]
        }
      ]
    },
    {
      "cell_type": "code",
      "source": [
        "#numpy joins using stack() function\n",
        "import numpy as np\n",
        "firstArray =np.array([1,2,3])\n",
        "print(\"The first Array is = \",firstArray)\n",
        "secondArray = np.array([4,5,6])\n",
        "print(\"The second Array is = \",secondArray)\n",
        "print(\"After Joining two array : \",np.hstack((firstArray, secondArray)))"
      ],
      "metadata": {
        "colab": {
          "base_uri": "https://localhost:8080/"
        },
        "id": "3BVpjeOng_Kl",
        "outputId": "93de40c4-9050-45b6-b47a-8f8b1e2feba5"
      },
      "execution_count": 21,
      "outputs": [
        {
          "output_type": "stream",
          "name": "stdout",
          "text": [
            "The first Array is =  [1 2 3]\n",
            "The second Array is =  [4 5 6]\n",
            "After Joining two array :  [1 2 3 4 5 6]\n"
          ]
        }
      ]
    },
    {
      "cell_type": "code",
      "source": [
        "# Numpy Splitting\n",
        "import numpy as np\n",
        "array = np.array([1,2,3,4,5,6,7,8,9,10])\n",
        "print(\"the array is : \",array)\n",
        "#splitting array into 3 parts\n",
        "print(\"After Splitting : \",np.array_split(array, 3))"
      ],
      "metadata": {
        "colab": {
          "base_uri": "https://localhost:8080/"
        },
        "id": "07lxCW4EkNsq",
        "outputId": "b9fdd6a1-844b-4ea2-8492-832c24f13585"
      },
      "execution_count": 25,
      "outputs": [
        {
          "output_type": "stream",
          "name": "stdout",
          "text": [
            "the array is :  [ 1  2  3  4  5  6  7  8  9 10]\n",
            "After Splitting :  [array([1, 2, 3, 4]), array([5, 6, 7]), array([ 8,  9, 10])]\n"
          ]
        }
      ]
    },
    {
      "cell_type": "code",
      "source": [
        "#numpy search\n",
        "import numpy as np\n",
        "array = np.array([1,2,3,4,4,5,6,4])\n",
        "print(\"The array is : \",array)\n",
        "# find all the index where value = 4 exists\n",
        "var = np.where(array == 4)\n",
        "print(var)"
      ],
      "metadata": {
        "colab": {
          "base_uri": "https://localhost:8080/"
        },
        "id": "QRBnj6k-nv5C",
        "outputId": "a6c6088b-33b9-4c76-937a-b00fbd188649"
      },
      "execution_count": 26,
      "outputs": [
        {
          "output_type": "stream",
          "name": "stdout",
          "text": [
            "The array is :  [1 2 3 4 4 5 6 4]\n",
            "(array([3, 4, 7]),)\n"
          ]
        }
      ]
    },
    {
      "cell_type": "code",
      "source": [
        " #numpy search\n",
        "import numpy as np\n",
        "array = np.array([1,2,3,6,11,12,27])\n",
        "print(\"The array is : \",array)\n",
        "# find all the index where value is divisible by 3 exits\n",
        "var = np.where(array % 3 == 0)\n",
        "print(var)"
      ],
      "metadata": {
        "colab": {
          "base_uri": "https://localhost:8080/"
        },
        "id": "7KQJhhfGpXiP",
        "outputId": "377e978b-45b4-498a-9236-51dbb585d64d"
      },
      "execution_count": 27,
      "outputs": [
        {
          "output_type": "stream",
          "name": "stdout",
          "text": [
            "The array is :  [ 1  2  3  6 11 12 27]\n",
            "(array([2, 3, 5, 6]),)\n"
          ]
        }
      ]
    },
    {
      "cell_type": "code",
      "source": [
        "# Numpy sorting\n",
        "import numpy as np\n",
        "arr=np.array([1,5,6,2,5,8,43,12,32])\n",
        "print(\"This is the Array:\\n\",arr)\n",
        "print(\"After sorting the array:\\n\",np.sort(arr))"
      ],
      "metadata": {
        "id": "8eFlsT3AqZxL"
      },
      "execution_count": null,
      "outputs": []
    }
  ]
}